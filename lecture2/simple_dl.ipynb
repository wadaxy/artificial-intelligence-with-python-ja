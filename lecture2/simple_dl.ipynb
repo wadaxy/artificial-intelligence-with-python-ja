{
  "nbformat": 4,
  "nbformat_minor": 0,
  "metadata": {
    "colab": {
      "name": "simple_dl.ipynb",
      "provenance": [],
      "include_colab_link": true
    },
    "kernelspec": {
      "name": "python3",
      "display_name": "Python 3"
    }
  },
  "cells": [
    {
      "cell_type": "markdown",
      "metadata": {
        "id": "view-in-github",
        "colab_type": "text"
      },
      "source": [
        "<a href=\"https://colab.research.google.com/github/wadaxy/artificial-intelligence-with-python-ja/blob/master/lecture2/simple_dl.ipynb\" target=\"_parent\"><img src=\"https://colab.research.google.com/assets/colab-badge.svg\" alt=\"Open In Colab\"/></a>"
      ]
    },
    {
      "cell_type": "markdown",
      "metadata": {
        "id": "Niaz8_W6OX34"
      },
      "source": [
        "# シンプルなディープラーニング\n",
        "PyTorchを使って簡単なディープラーニングを実装します。  \n",
        "今回は、ディープラーニングにより手書き文字の認識を行います。\n"
      ]
    },
    {
      "cell_type": "markdown",
      "metadata": {
        "id": "x9Gzbn25XSlF"
      },
      "source": [
        "### 手書き文字画像の確認\n",
        "scikit-learnから、手書き数字の画像データを読み込んで表示します。  "
      ]
    },
    {
      "cell_type": "code",
      "metadata": {
        "id": "81Il03RNAmbS",
        "colab": {
          "base_uri": "https://localhost:8080/",
          "height": 307
        },
        "outputId": "f1be6a96-2b4e-4544-ca0b-4ea8e478895e"
      },
      "source": [
        "import numpy as np\n",
        "import matplotlib.pyplot as plt\n",
        "from sklearn import datasets\n",
        "\n",
        "digits_data = datasets.load_digits()\n",
        "\n",
        "n_img = 10  # 表示する画像の数\n",
        "plt.figure(figsize=(10, 4))\n",
        "for i in range(n_img):\n",
        "    ax = plt.subplot(2, 5, i+1)\n",
        "    plt.imshow(digits_data.data[i].reshape(8, 8), cmap=\"Greys_r\")\n",
        "    ax.get_xaxis().set_visible(False)  # 軸を非表示に\n",
        "    ax.get_yaxis().set_visible(False)\n",
        "plt.show()\n",
        "\n",
        "print(\"データの形状:\", digits_data.data.shape)\n",
        "print(\"ラベル:\", digits_data.target[:n_img])"
      ],
      "execution_count": 1,
      "outputs": [
        {
          "output_type": "display_data",
          "data": {
            "text/plain": [
              "<Figure size 1000x400 with 10 Axes>"
            ],
            "image/png": "[encoded data removed]"
          },
          "metadata": {}
        },
        {
          "output_type": "stream",
          "name": "stdout",
          "text": [
            "データの形状: (1797, 64)\n",
            "ラベル: [0 1 2 3 4 5 6 7 8 9]\n"
          ]
        }
      ]
    },
    {
      "cell_type": "markdown",
      "metadata": {
        "id": "sFWHMOf2D4b1"
      },
      "source": [
        "8×8とサイズは小さいですが、0から9までの手書き数字の画像が表示されました。このような手書き数字の画像が、このデータセットには1797枚含まれています。  \n",
        "また、各画像は描かれた数字を表すラベルとペアになっています。  \n",
        "\n"
      ]
    },
    {
      "cell_type": "markdown",
      "metadata": {
        "id": "w40h1X0FXmrh"
      },
      "source": [
        "## データを訓練用とテスト用に分割\n",
        "scikit-learnのtrain_test_splitを使って、データを訓練用とテストに分割します。"
      ]
    },
    {
      "cell_type": "code",
      "metadata": {
        "id": "GLGwXks542pJ"
      },
      "source": [
        "import torch\n",
        "from sklearn.model_selection import train_test_split\n",
        "\n",
        "digit_images = digits_data.data\n",
        "labels = digits_data.target\n",
        "x_train, x_test, t_train, t_test = train_test_split(digit_images, labels)  # 25%がテスト用\n",
        "\n",
        "# Tensorに変換\n",
        "x_train = torch.tensor(x_train, dtype=torch.float32)\n",
        "t_train = torch.tensor(t_train, dtype=torch.int64)\n",
        "x_test = torch.tensor(x_test, dtype=torch.float32)\n",
        "t_test = torch.tensor(t_test, dtype=torch.int64)"
      ],
      "execution_count": 2,
      "outputs": []
    },
    {
      "cell_type": "markdown",
      "metadata": {
        "id": "FalXNYaJPkoE"
      },
      "source": [
        "## モデルの構築\n",
        "`nn`モジュールの`Sequential`クラスによりモデルを構築します。"
      ]
    },
    {
      "cell_type": "code",
      "metadata": {
        "id": "SuqqZmsh_jNK",
        "colab": {
          "base_uri": "https://localhost:8080/"
        },
        "outputId": "d57a0187-bace-4195-8a6b-da488eed7423"
      },
      "source": [
        "from torch import nn\n",
        "\n",
        "net = nn.Sequential(\n",
        "    nn.Linear(64, 32),  # 全結合層\n",
        "    nn.ReLU(),          # ReLU\n",
        "    nn.Linear(32, 16),\n",
        "    nn.ReLU(),\n",
        "    nn.Linear(16, 10)\n",
        ")\n",
        "print(net)"
      ],
      "execution_count": 3,
      "outputs": [
        {
          "output_type": "stream",
          "name": "stdout",
          "text": [
            "Sequential(\n",
            "  (0): Linear(in_features=64, out_features=32, bias=True)\n",
            "  (1): ReLU()\n",
            "  (2): Linear(in_features=32, out_features=16, bias=True)\n",
            "  (3): ReLU()\n",
            "  (4): Linear(in_features=16, out_features=10, bias=True)\n",
            ")\n"
          ]
        }
      ]
    },
    {
      "cell_type": "markdown",
      "metadata": {
        "id": "qsW5zCKhQE9p"
      },
      "source": [
        "## 学習\n",
        "モデルを訓練します。  \n",
        "今回は、損失関数に交差エントロピー誤差を、最適化アルゴリズムにSGD（確率的勾配降下法）を設定します。  \n",
        "順伝播は訓練データ、テストデータ両者で行い誤差を計算します。  \n",
        "逆伝播を行うのは、訓練データのみです。  \n"
      ]
    },
    {
      "cell_type": "code",
      "metadata": {
        "id": "u6zwN3nArbGC",
        "colab": {
          "base_uri": "https://localhost:8080/"
        },
        "outputId": "4b32540a-e9b9-4945-9ccc-43f76bd8ebf3"
      },
      "source": [
        "from torch import optim\n",
        "\n",
        "# 交差エントロピー誤差関数\n",
        "loss_fnc = nn.CrossEntropyLoss()\n",
        "\n",
        "# SGD\n",
        "optimizer = optim.SGD(net.parameters(), lr=0.01)  # 学習率は0.01\n",
        "\n",
        "# 損失のログ\n",
        "record_loss_train = []\n",
        "record_loss_test = []\n",
        "\n",
        "# 1000エポック学習\n",
        "for i in range(1000):\n",
        "\n",
        "    # 勾配を0に\n",
        "    optimizer.zero_grad()\n",
        "\n",
        "    # 順伝播\n",
        "    y_train = net(x_train)\n",
        "    y_test = net(x_test)\n",
        "\n",
        "    # 誤差を求める\n",
        "    loss_train = loss_fnc(y_train, t_train)\n",
        "    loss_test = loss_fnc(y_test, t_test)\n",
        "    record_loss_train.append(loss_train.item())\n",
        "    record_loss_test.append(loss_test.item())\n",
        "\n",
        "    # 逆伝播（勾配を求める）\n",
        "    loss_train.backward()\n",
        "\n",
        "    # パラメータの更新\n",
        "    optimizer.step()\n",
        "\n",
        "    if i%100 == 0:\n",
        "        print(\"Epoch:\", i, \"Loss_Train:\", loss_train.item(), \"Loss_Test:\", loss_test.item())"
      ],
      "execution_count": 4,
      "outputs": [
        {
          "output_type": "stream",
          "name": "stdout",
          "text": [
            "Epoch: 0 Loss_Train: 2.4346020221710205 Loss_Test: 2.517922878265381\n",
            "Epoch: 100 Loss_Train: 0.8713203072547913 Loss_Test: 0.902401864528656\n",
            "Epoch: 200 Loss_Train: 0.3535449504852295 Loss_Test: 0.38764360547065735\n",
            "Epoch: 300 Loss_Train: 0.22496582567691803 Loss_Test: 0.2642647922039032\n",
            "Epoch: 400 Loss_Train: 0.16602109372615814 Loss_Test: 0.21018365025520325\n",
            "Epoch: 500 Loss_Train: 0.13194331526756287 Loss_Test: 0.18020354211330414\n",
            "Epoch: 600 Loss_Train: 0.10979793965816498 Loss_Test: 0.16195213794708252\n",
            "Epoch: 700 Loss_Train: 0.09425834566354752 Loss_Test: 0.14948219060897827\n",
            "Epoch: 800 Loss_Train: 0.08279502391815186 Loss_Test: 0.1404058188199997\n",
            "Epoch: 900 Loss_Train: 0.07379952818155289 Loss_Test: 0.13345034420490265\n"
          ]
        }
      ]
    },
    {
      "cell_type": "markdown",
      "metadata": {
        "id": "rJwwrWTw43rx"
      },
      "source": [
        "## 誤差の推移\n",
        "訓練データ、テストデータで誤差の推移をグラフ表示します。  "
      ]
    },
    {
      "cell_type": "code",
      "metadata": {
        "id": "OaJx4swE45XI",
        "colab": {
          "base_uri": "https://localhost:8080/",
          "height": 449
        },
        "outputId": "162c30ec-bb1c-42dd-9bf0-7da8bea9c964"
      },
      "source": [
        "plt.plot(range(len(record_loss_train)), record_loss_train, label=\"Train\")\n",
        "plt.plot(range(len(record_loss_test)), record_loss_test, label=\"Test\")\n",
        "plt.legend()\n",
        "\n",
        "plt.xlabel(\"Epochs\")\n",
        "plt.ylabel(\"Error\")\n",
        "plt.show()"
      ],
      "execution_count": 5,
      "outputs": [
        {
          "output_type": "display_data",
          "data": {
            "text/plain": [
              "<Figure size 640x480 with 1 Axes>"
            ],
            "image/png": "[encoded data removed]"
          },
          "metadata": {}
        }
      ]
    },
    {
      "cell_type": "markdown",
      "metadata": {
        "id": "iMrpac0m4Nct"
      },
      "source": [
        "## 正解率\n",
        "モデルの性能を把握するため、テストデータ使い正解率を測定します。  "
      ]
    },
    {
      "cell_type": "code",
      "metadata": {
        "id": "IRkGCYMM_N35",
        "colab": {
          "base_uri": "https://localhost:8080/"
        },
        "outputId": "989c4b08-9460-4ebc-ea6a-69eda4c5b45c"
      },
      "source": [
        "y_test = net(x_test)\n",
        "count = (y_test.argmax(1) == t_test).sum().item()\n",
        "print(\"正解率:\", str(count/len(y_test)*100) + \"%\")"
      ],
      "execution_count": 6,
      "outputs": [
        {
          "output_type": "stream",
          "name": "stdout",
          "text": [
            "正解率: 96.66666666666667%\n"
          ]
        }
      ]
    },
    {
      "cell_type": "markdown",
      "metadata": {
        "id": "LrRAJzwD4zpN"
      },
      "source": [
        "## 訓練済みのモデルを使った予測\n",
        "訓練済みのモデルを使ってみましょう。  \n",
        "画像を入力し、モデルが機能していることを確かめます。"
      ]
    },
    {
      "cell_type": "code",
      "metadata": {
        "id": "Pdy9nPckTDik",
        "colab": {
          "base_uri": "https://localhost:8080/",
          "height": 448
        },
        "outputId": "03aff783-8fd8-440c-8d40-6cff3ae3751f"
      },
      "source": [
        "img_id = 150\n",
        "x_pred = digit_images[img_id]\n",
        "image = x_pred.reshape(8, 8)\n",
        "plt.imshow(image, cmap=\"Greys_r\")\n",
        "plt.show()\n",
        "\n",
        "x_pred = torch.tensor(x_pred, dtype=torch.float32)\n",
        "y_pred = net(x_pred)\n",
        "print(\"正解:\", labels[img_id], \"予測結果:\", y_pred.argmax().item())"
      ],
      "execution_count": 9,
      "outputs": [
        {
          "output_type": "display_data",
          "data": {
            "text/plain": [
              "<Figure size 640x480 with 1 Axes>"
            ],
            "image/png": "[encoded data removed]"
          },
          "metadata": {}
        },
        {
          "output_type": "stream",
          "name": "stdout",
          "text": [
            "正解: 0 予測結果: 0\n"
          ]
        }
      ]
    },
    {
      "cell_type": "markdown",
      "metadata": {
        "id": "maAJN2wa0l1D"
      },
      "source": [
        "このような訓練済みのモデルは、別途保存しWebアプリなどで活用することができます。"
      ]
    }
  ]
}