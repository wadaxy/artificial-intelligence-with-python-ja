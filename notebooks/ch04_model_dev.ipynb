{
  "nbformat": 4,
  "nbformat_minor": 0,
  "metadata": {
    "colab": {
      "name": "ch04_model_dev.ipynb",
      "provenance": [],
      "toc_visible": true,
      "include_colab_link": true
    },
    "kernelspec": {
      "display_name": "Python 3",
      "language": "python",
      "name": "python3"
    },
    "language_info": {
      "codemirror_mode": {
        "name": "ipython",
        "version": 3
      },
      "file_extension": ".py",
      "mimetype": "text/x-python",
      "name": "python",
      "nbconvert_exporter": "python",
      "pygments_lexer": "ipython3",
      "version": "3.8.5"
    }
  },
  "cells": [
    {
      "cell_type": "markdown",
      "metadata": {
        "id": "view-in-github",
        "colab_type": "text"
      },
      "source": [
        "<a href=\"https://colab.research.google.com/github/wadaxy/artificial-intelligence-with-python-ja/blob/master/notebooks/ch04_model_dev.ipynb\" target=\"_parent\"><img src=\"https://colab.research.google.com/assets/colab-badge.svg\" alt=\"Open In Colab\"/></a>"
      ]
    },
    {
      "cell_type": "markdown",
      "metadata": {
        "id": "qU9dTlgPF-Km"
      },
      "source": [
        "# 4章 予測関数定義"
      ]
    },
    {
      "cell_type": "code",
      "metadata": {
        "id": "xV4MBR1YF-Kt",
        "outputId": "860307d8-7cef-4916-cd15-824d35246229",
        "colab": {
          "base_uri": "https://localhost:8080/"
        }
      },
      "source": [
        "# 必要ライブラリの導入\n",
        "\n",
        "!pip install japanize_matplotlib | tail -n 1\n",
        "!pip install torchviz | tail -n 1"
      ],
      "execution_count": 1,
      "outputs": [
        {
          "output_type": "stream",
          "name": "stdout",
          "text": [
            "Successfully installed japanize_matplotlib-1.1.3\n",
            "Successfully installed nvidia-cublas-cu12-12.4.5.8 nvidia-cuda-cupti-cu12-12.4.127 nvidia-cuda-nvrtc-cu12-12.4.127 nvidia-cuda-runtime-cu12-12.4.127 nvidia-cudnn-cu12-9.1.0.70 nvidia-cufft-cu12-11.2.1.3 nvidia-curand-cu12-10.3.5.147 nvidia-cusolver-cu12-11.6.1.9 nvidia-cusparse-cu12-12.3.1.170 nvidia-nvjitlink-cu12-12.4.127 torchviz-0.0.3\n"
          ]
        }
      ]
    },
    {
      "cell_type": "code",
      "metadata": {
        "id": "BLjiUdMkF-Kv"
      },
      "source": [
        "# 必要ライブラリのインポート\n",
        "\n",
        "%matplotlib inline\n",
        "import numpy as np\n",
        "import matplotlib.pyplot as plt\n",
        "import japanize_matplotlib"
      ],
      "execution_count": 2,
      "outputs": []
    },
    {
      "cell_type": "code",
      "metadata": {
        "id": "jDn5PNK1F-Kw"
      },
      "source": [
        "# PyTorch関連ライブラリ\n",
        "import torch\n",
        "import torch.nn as nn\n",
        "from torchviz import make_dot"
      ],
      "execution_count": 3,
      "outputs": []
    },
    {
      "cell_type": "code",
      "metadata": {
        "id": "2EvqxdjJF-Kw"
      },
      "source": [
        "# デフォルトフォントサイズ変更\n",
        "plt.rcParams['font.size'] = 14\n",
        "\n",
        "# デフォルトグラフサイズ変更\n",
        "plt.rcParams['figure.figsize'] = (6,6)\n",
        "\n",
        "# デフォルトで方眼表示ON\n",
        "plt.rcParams['axes.grid'] = True\n",
        "\n",
        "# numpyの浮動小数点の表示精度\n",
        "np.set_printoptions(suppress=True, precision=4)"
      ],
      "execution_count": 4,
      "outputs": []
    },
    {
      "cell_type": "markdown",
      "metadata": {
        "id": "_3WZJXXHF-Kw"
      },
      "source": [
        "## 4.4 擬似コードとしての予測関数"
      ]
    },
    {
      "cell_type": "code",
      "metadata": {
        "id": "QMdb2lxdF-Kw"
      },
      "source": [
        "# レイヤー関数定義\n",
        "\n",
        "# 最初の線形関数\n",
        "# 784 入力数\n",
        "# 128 出力数   これが「隠れ層」のノード数に該当する\n",
        "l1 = nn.Linear(784, 128)\n",
        "\n",
        "# 2番目の線形関数\n",
        "# 128 入力数\n",
        "# 10 出力数\n",
        "l2 = nn.Linear(128, 10)\n",
        "\n",
        "# 活性化関数\n",
        "relu = nn.ReLU(inplace=True)"
      ],
      "execution_count": 5,
      "outputs": []
    },
    {
      "cell_type": "code",
      "metadata": {
        "id": "F9HCp5nUF-Kx",
        "outputId": "ae1ea81e-adb8-420f-ff5d-01ebbdfdb669",
        "colab": {
          "base_uri": "https://localhost:8080/"
        }
      },
      "source": [
        "# 入力テンソルから出力テンソルを計算\n",
        "\n",
        "# ダミー入力データを作成\n",
        "inputs = torch.randn(100, 784)\n",
        "\n",
        "# 中間テンソル1の計算\n",
        "m1 = l1(inputs)\n",
        "\n",
        "# 中間テンソル2の計算\n",
        "m2 = relu(m1)\n",
        "\n",
        "# 出力テンソルの計算\n",
        "outputs = l2(m2)\n",
        "\n",
        "# 入力テンソルと出力テンソルのshape確認\n",
        "print('入力テンソル', inputs.shape)\n",
        "print('出力テンソル', outputs.shape)"
      ],
      "execution_count": 6,
      "outputs": [
        {
          "output_type": "stream",
          "name": "stdout",
          "text": [
            "入力テンソル torch.Size([100, 784])\n",
            "出力テンソル torch.Size([100, 10])\n"
          ]
        }
      ]
    },
    {
      "cell_type": "code",
      "metadata": {
        "id": "k1pBFECMF-Kx",
        "outputId": "e51fec2f-65ff-420d-aaa2-d45279688c62",
        "colab": {
          "base_uri": "https://localhost:8080/"
        }
      },
      "source": [
        "# nn.Sequentialを使って、全体を合成関数として定義\n",
        "# 前のコラムのm1,m2の計算をnn.Sequentialで簡潔に実装可能である\n",
        "\n",
        "net2 = nn.Sequential(\n",
        "    l1,\n",
        "    relu,\n",
        "    l2\n",
        ")\n",
        "\n",
        "outputs2 = net2(inputs)\n",
        "\n",
        "# 入力テンソルと出力テンソルのshape確認\n",
        "print('入力テンソル', inputs.shape)\n",
        "print('出力テンソル', outputs2.shape)"
      ],
      "execution_count": 7,
      "outputs": [
        {
          "output_type": "stream",
          "name": "stdout",
          "text": [
            "入力テンソル torch.Size([100, 784])\n",
            "出力テンソル torch.Size([100, 10])\n"
          ]
        }
      ]
    },
    {
      "cell_type": "markdown",
      "metadata": {
        "id": "wQf1DBaS8FZm"
      },
      "source": [
        "## 4.7　活性化関数の目的\n",
        "当コラムでは予測結果のグラフ(図4-9から図4-11) が重要で、そのための実装コードの意味が現段階でわからなくて構いません。以下のコードがあくまで参考情報としての提示になります。"
      ]
    },
    {
      "cell_type": "markdown",
      "metadata": {
        "id": "J7apEGDq8zS7"
      },
      "source": [
        "#### 学習用のデータの計算"
      ]
    },
    {
      "cell_type": "code",
      "metadata": {
        "id": "WRauI6Z7Gvz8"
      },
      "source": [
        "# 訓練データ、検証データの計算\n",
        "np.random.seed(123)\n",
        "x = np.random.randn(100,1)\n",
        "\n",
        "# yの値はx^2に乱数の要素を1/10程度付加した\n",
        "y = x**2 + np.random.randn(100,1) * 0.1\n",
        "\n",
        "# データを50件ずつに分け、それぞれ訓練用、検証用とする\n",
        "x_train = x[:50,:]\n",
        "x_test = x[50:,:]\n",
        "y_train = y[:50,:]\n",
        "y_test = y[50:,:]"
      ],
      "execution_count": 8,
      "outputs": []
    },
    {
      "cell_type": "code",
      "metadata": {
        "id": "WubHpuSu9F2a",
        "outputId": "90c062fc-8695-46bf-cc2d-2f5b10251a54",
        "colab": {
          "base_uri": "https://localhost:8080/",
          "height": 527
        }
      },
      "source": [
        "# 散布図表示\n",
        "plt.scatter(x_train, y_train, c='b', label='訓練データ')\n",
        "plt.scatter(x_test, y_test, c='k', marker='x', label='検証データ')\n",
        "plt.legend()\n",
        "plt.show()"
      ],
      "execution_count": 9,
      "outputs": [
        {
          "output_type": "display_data",
          "data": {
            "text/plain": [
              "<Figure size 600x600 with 1 Axes>"
            ],
            "image/png": "[encoded data removed]"
          },
          "metadata": {}
        }
      ]
    },
    {
      "cell_type": "code",
      "metadata": {
        "id": "eCrl5qLz9yB8"
      },
      "source": [
        "# 入力変数x と正解値 ytのTesor化\n",
        "\n",
        "inputs = torch.tensor(x_train).float()\n",
        "labels = torch.tensor(y_train).float()\n",
        "\n",
        "inputs_test = torch.tensor(x_test).float()\n",
        "labels_test = torch.tensor(y_test).float()"
      ],
      "execution_count": 10,
      "outputs": []
    },
    {
      "cell_type": "code",
      "metadata": {
        "id": "k3QIOgzv-OOO"
      },
      "source": [
        "import torch.optim as optim"
      ],
      "execution_count": 11,
      "outputs": []
    },
    {
      "cell_type": "markdown",
      "metadata": {
        "id": "HVl4DOk0-vhO"
      },
      "source": [
        "### 単回帰の場合"
      ]
    },
    {
      "cell_type": "code",
      "metadata": {
        "id": "JRyZGGMN9_d3"
      },
      "source": [
        "# モデルの定義\n",
        "\n",
        "class Net(nn.Module):\n",
        "    def __init__(self):\n",
        "        #  親クラスnn.Modulesの初期化呼び出し\n",
        "        super().__init__()\n",
        "\n",
        "        # 出力層の定義\n",
        "        self.l1 = nn.Linear(1, 1)\n",
        "\n",
        "    # 予測関数の定義\n",
        "    def forward(self, x):\n",
        "        x1 = self.l1(x) # 線形回帰\n",
        "        return x1"
      ],
      "execution_count": 12,
      "outputs": []
    },
    {
      "cell_type": "code",
      "metadata": {
        "id": "h4P55Zk5-Cwk"
      },
      "source": [
        "# 学習率\n",
        "lr = 0.01\n",
        "\n",
        "# インスタンス生成　(パラメータ値初期化)\n",
        "net = Net()\n",
        "\n",
        "# 最適化アルゴリズム: 勾配降下法\n",
        "optimizer = optim.SGD(net.parameters(), lr=lr)\n",
        "\n",
        "# 損失関数： 最小二乗誤差\n",
        "criterion = nn.MSELoss()\n",
        "\n",
        "# 繰り返し回数\n",
        "num_epochs = 10000\n",
        "\n",
        "# 評価結果記録用 (損失関数値のみ記録)\n",
        "history = np.zeros((0,2))"
      ],
      "execution_count": 13,
      "outputs": []
    },
    {
      "cell_type": "code",
      "metadata": {
        "id": "po6RlG27-FqN",
        "outputId": "eb22923d-1645-4bf2-dd79-de4ba311b93d",
        "colab": {
          "base_uri": "https://localhost:8080/"
        }
      },
      "source": [
        "# 繰り返し計算メインループ\n",
        "\n",
        "for epoch in range(num_epochs):\n",
        "\n",
        "    # 勾配値初期化\n",
        "    optimizer.zero_grad()\n",
        "\n",
        "    # 予測計算\n",
        "    outputs = net(inputs)\n",
        "\n",
        "    # 誤差計算\n",
        "    loss = criterion(outputs, labels)\n",
        "\n",
        "    #勾配計算\n",
        "    loss.backward()\n",
        "\n",
        "    # 勾配降下法の適用\n",
        "    optimizer.step()\n",
        "\n",
        "    # 100回ごとに途中経過を記録する\n",
        "    if ( epoch % 100 == 0):\n",
        "        history = np.vstack((history, np.array([epoch, loss.item()])))\n",
        "        print(f'Epoch {epoch} loss: {loss.item():.5f}')"
      ],
      "execution_count": 14,
      "outputs": [
        {
          "output_type": "stream",
          "name": "stdout",
          "text": [
            "Epoch 0 loss: 3.93063\n",
            "Epoch 100 loss: 3.22800\n",
            "Epoch 200 loss: 3.21566\n",
            "Epoch 300 loss: 3.21545\n",
            "Epoch 400 loss: 3.21544\n",
            "Epoch 500 loss: 3.21544\n",
            "Epoch 600 loss: 3.21544\n",
            "Epoch 700 loss: 3.21544\n",
            "Epoch 800 loss: 3.21544\n",
            "Epoch 900 loss: 3.21544\n",
            "Epoch 1000 loss: 3.21544\n",
            "Epoch 1100 loss: 3.21544\n",
            "Epoch 1200 loss: 3.21544\n",
            "Epoch 1300 loss: 3.21544\n",
            "Epoch 1400 loss: 3.21544\n",
            "Epoch 1500 loss: 3.21544\n",
            "Epoch 1600 loss: 3.21544\n",
            "Epoch 1700 loss: 3.21544\n",
            "Epoch 1800 loss: 3.21544\n",
            "Epoch 1900 loss: 3.21544\n",
            "Epoch 2000 loss: 3.21544\n",
            "Epoch 2100 loss: 3.21544\n",
            "Epoch 2200 loss: 3.21544\n",
            "Epoch 2300 loss: 3.21544\n",
            "Epoch 2400 loss: 3.21544\n",
            "Epoch 2500 loss: 3.21544\n",
            "Epoch 2600 loss: 3.21544\n",
            "Epoch 2700 loss: 3.21544\n",
            "Epoch 2800 loss: 3.21544\n",
            "Epoch 2900 loss: 3.21544\n",
            "Epoch 3000 loss: 3.21544\n",
            "Epoch 3100 loss: 3.21544\n",
            "Epoch 3200 loss: 3.21544\n",
            "Epoch 3300 loss: 3.21544\n",
            "Epoch 3400 loss: 3.21544\n",
            "Epoch 3500 loss: 3.21544\n",
            "Epoch 3600 loss: 3.21544\n",
            "Epoch 3700 loss: 3.21544\n",
            "Epoch 3800 loss: 3.21544\n",
            "Epoch 3900 loss: 3.21544\n",
            "Epoch 4000 loss: 3.21544\n",
            "Epoch 4100 loss: 3.21544\n",
            "Epoch 4200 loss: 3.21544\n",
            "Epoch 4300 loss: 3.21544\n",
            "Epoch 4400 loss: 3.21544\n",
            "Epoch 4500 loss: 3.21544\n",
            "Epoch 4600 loss: 3.21544\n",
            "Epoch 4700 loss: 3.21544\n",
            "Epoch 4800 loss: 3.21544\n",
            "Epoch 4900 loss: 3.21544\n",
            "Epoch 5000 loss: 3.21544\n",
            "Epoch 5100 loss: 3.21544\n",
            "Epoch 5200 loss: 3.21544\n",
            "Epoch 5300 loss: 3.21544\n",
            "Epoch 5400 loss: 3.21544\n",
            "Epoch 5500 loss: 3.21544\n",
            "Epoch 5600 loss: 3.21544\n",
            "Epoch 5700 loss: 3.21544\n",
            "Epoch 5800 loss: 3.21544\n",
            "Epoch 5900 loss: 3.21544\n",
            "Epoch 6000 loss: 3.21544\n",
            "Epoch 6100 loss: 3.21544\n",
            "Epoch 6200 loss: 3.21544\n",
            "Epoch 6300 loss: 3.21544\n",
            "Epoch 6400 loss: 3.21544\n",
            "Epoch 6500 loss: 3.21544\n",
            "Epoch 6600 loss: 3.21544\n",
            "Epoch 6700 loss: 3.21544\n",
            "Epoch 6800 loss: 3.21544\n",
            "Epoch 6900 loss: 3.21544\n",
            "Epoch 7000 loss: 3.21544\n",
            "Epoch 7100 loss: 3.21544\n",
            "Epoch 7200 loss: 3.21544\n",
            "Epoch 7300 loss: 3.21544\n",
            "Epoch 7400 loss: 3.21544\n",
            "Epoch 7500 loss: 3.21544\n",
            "Epoch 7600 loss: 3.21544\n",
            "Epoch 7700 loss: 3.21544\n",
            "Epoch 7800 loss: 3.21544\n",
            "Epoch 7900 loss: 3.21544\n",
            "Epoch 8000 loss: 3.21544\n",
            "Epoch 8100 loss: 3.21544\n",
            "Epoch 8200 loss: 3.21544\n",
            "Epoch 8300 loss: 3.21544\n",
            "Epoch 8400 loss: 3.21544\n",
            "Epoch 8500 loss: 3.21544\n",
            "Epoch 8600 loss: 3.21544\n",
            "Epoch 8700 loss: 3.21544\n",
            "Epoch 8800 loss: 3.21544\n",
            "Epoch 8900 loss: 3.21544\n",
            "Epoch 9000 loss: 3.21544\n",
            "Epoch 9100 loss: 3.21544\n",
            "Epoch 9200 loss: 3.21544\n",
            "Epoch 9300 loss: 3.21544\n",
            "Epoch 9400 loss: 3.21544\n",
            "Epoch 9500 loss: 3.21544\n",
            "Epoch 9600 loss: 3.21544\n",
            "Epoch 9700 loss: 3.21544\n",
            "Epoch 9800 loss: 3.21544\n",
            "Epoch 9900 loss: 3.21544\n"
          ]
        }
      ]
    },
    {
      "cell_type": "code",
      "metadata": {
        "id": "v-ClJcWw-XTk",
        "outputId": "f9624599-3ecc-41fe-8112-c121f966a212",
        "colab": {
          "base_uri": "https://localhost:8080/",
          "height": 552
        }
      },
      "source": [
        "# 結果のグラフ化\n",
        "labels_pred = net(inputs_test)\n",
        "\n",
        "plt.title('隠れ層なし　活性化関数なし')\n",
        "plt.scatter(inputs_test[:,0].data, labels_pred[:,0].data, c='b', label='予測値')\n",
        "plt.scatter(inputs_test[:,0].data, labels_test[:,0].data, c='k', marker='x',label='正解値')\n",
        "plt.legend()\n",
        "plt.show()"
      ],
      "execution_count": 15,
      "outputs": [
        {
          "output_type": "display_data",
          "data": {
            "text/plain": [
              "<Figure size 600x600 with 1 Axes>"
            ],
            "image/png": "[encoded data removed]"
          },
          "metadata": {}
        }
      ]
    },
    {
      "cell_type": "markdown",
      "metadata": {
        "id": "yAO6k3Nu-z85"
      },
      "source": [
        "### 疑似ディープラーニングの場合"
      ]
    },
    {
      "cell_type": "code",
      "metadata": {
        "id": "pEQbY7qG-nBu"
      },
      "source": [
        "# モデルの定義\n",
        "\n",
        "class Net2(nn.Module):\n",
        "    def __init__(self):\n",
        "        #  親クラスnn.Modulesの初期化呼び出し\n",
        "        super().__init__()\n",
        "\n",
        "        # 出力層の定義\n",
        "        self.l1 = nn.Linear(1, 10)\n",
        "        self.l2 = nn.Linear(10, 10)\n",
        "        self.l3 = nn.Linear(10,1)\n",
        "\n",
        "    # 予測関数の定義\n",
        "    def forward(self, x):\n",
        "        x1 = self.l1(x)\n",
        "        x2 = self.l2(x1)\n",
        "        x3 = self.l3(x2)\n",
        "        return x3"
      ],
      "execution_count": 16,
      "outputs": []
    },
    {
      "cell_type": "code",
      "metadata": {
        "id": "gvbOfSCh-6mC"
      },
      "source": [
        "# 学習率\n",
        "lr = 0.01\n",
        "\n",
        "# インスタンス生成　(パラメータ値初期化)\n",
        "net2 = Net2()\n",
        "\n",
        "# 最適化アルゴリズム: 勾配降下法\n",
        "optimizer = optim.SGD(net2.parameters(), lr=lr)\n",
        "\n",
        "# 損失関数： 最小二乗誤差\n",
        "criterion = nn.MSELoss()\n",
        "\n",
        "# 繰り返し回数\n",
        "num_epochs = 10000\n",
        "\n",
        "# 評価結果記録用 (損失関数値のみ記録)\n",
        "history = np.zeros((0,2))"
      ],
      "execution_count": 17,
      "outputs": []
    },
    {
      "cell_type": "code",
      "metadata": {
        "id": "8mUIKSmN-93V",
        "outputId": "c4798790-5419-4523-df60-2f342b82dadc",
        "colab": {
          "base_uri": "https://localhost:8080/"
        }
      },
      "source": [
        "# 繰り返し計算メインループ\n",
        "\n",
        "for epoch in range(num_epochs):\n",
        "\n",
        "    # 勾配値初期化\n",
        "    optimizer.zero_grad()\n",
        "\n",
        "    # 予測計算\n",
        "    outputs = net2(inputs)\n",
        "\n",
        "    # 誤差計算\n",
        "    loss = criterion(outputs, labels)\n",
        "\n",
        "    #勾配計算\n",
        "    loss.backward()\n",
        "\n",
        "    # 勾配降下法の適用\n",
        "    optimizer.step()\n",
        "\n",
        "    # 100回ごとに途中経過を記録する\n",
        "    if ( epoch % 100 == 0):\n",
        "        history = np.vstack((history, np.array([epoch, loss.item()])))\n",
        "        print(f'Epoch {epoch} loss: {loss.item():.5f}')"
      ],
      "execution_count": 18,
      "outputs": [
        {
          "output_type": "stream",
          "name": "stdout",
          "text": [
            "Epoch 0 loss: 4.86115\n",
            "Epoch 100 loss: 3.21544\n",
            "Epoch 200 loss: 3.21544\n",
            "Epoch 300 loss: 3.21544\n",
            "Epoch 400 loss: 3.21544\n",
            "Epoch 500 loss: 3.21544\n",
            "Epoch 600 loss: 3.21544\n",
            "Epoch 700 loss: 3.21544\n",
            "Epoch 800 loss: 3.21544\n",
            "Epoch 900 loss: 3.21544\n",
            "Epoch 1000 loss: 3.21544\n",
            "Epoch 1100 loss: 3.21544\n",
            "Epoch 1200 loss: 3.21544\n",
            "Epoch 1300 loss: 3.21544\n",
            "Epoch 1400 loss: 3.21544\n",
            "Epoch 1500 loss: 3.21544\n",
            "Epoch 1600 loss: 3.21544\n",
            "Epoch 1700 loss: 3.21544\n",
            "Epoch 1800 loss: 3.21544\n",
            "Epoch 1900 loss: 3.21544\n",
            "Epoch 2000 loss: 3.21544\n",
            "Epoch 2100 loss: 3.21544\n",
            "Epoch 2200 loss: 3.21544\n",
            "Epoch 2300 loss: 3.21544\n",
            "Epoch 2400 loss: 3.21544\n",
            "Epoch 2500 loss: 3.21544\n",
            "Epoch 2600 loss: 3.21544\n",
            "Epoch 2700 loss: 3.21544\n",
            "Epoch 2800 loss: 3.21544\n",
            "Epoch 2900 loss: 3.21544\n",
            "Epoch 3000 loss: 3.21544\n",
            "Epoch 3100 loss: 3.21544\n",
            "Epoch 3200 loss: 3.21544\n",
            "Epoch 3300 loss: 3.21544\n",
            "Epoch 3400 loss: 3.21544\n",
            "Epoch 3500 loss: 3.21544\n",
            "Epoch 3600 loss: 3.21544\n",
            "Epoch 3700 loss: 3.21544\n",
            "Epoch 3800 loss: 3.21544\n",
            "Epoch 3900 loss: 3.21544\n",
            "Epoch 4000 loss: 3.21544\n",
            "Epoch 4100 loss: 3.21544\n",
            "Epoch 4200 loss: 3.21544\n",
            "Epoch 4300 loss: 3.21544\n",
            "Epoch 4400 loss: 3.21544\n",
            "Epoch 4500 loss: 3.21544\n",
            "Epoch 4600 loss: 3.21544\n",
            "Epoch 4700 loss: 3.21544\n",
            "Epoch 4800 loss: 3.21544\n",
            "Epoch 4900 loss: 3.21544\n",
            "Epoch 5000 loss: 3.21544\n",
            "Epoch 5100 loss: 3.21544\n",
            "Epoch 5200 loss: 3.21544\n",
            "Epoch 5300 loss: 3.21544\n",
            "Epoch 5400 loss: 3.21544\n",
            "Epoch 5500 loss: 3.21544\n",
            "Epoch 5600 loss: 3.21544\n",
            "Epoch 5700 loss: 3.21544\n",
            "Epoch 5800 loss: 3.21544\n",
            "Epoch 5900 loss: 3.21544\n",
            "Epoch 6000 loss: 3.21544\n",
            "Epoch 6100 loss: 3.21544\n",
            "Epoch 6200 loss: 3.21544\n",
            "Epoch 6300 loss: 3.21544\n",
            "Epoch 6400 loss: 3.21544\n",
            "Epoch 6500 loss: 3.21544\n",
            "Epoch 6600 loss: 3.21544\n",
            "Epoch 6700 loss: 3.21544\n",
            "Epoch 6800 loss: 3.21544\n",
            "Epoch 6900 loss: 3.21544\n",
            "Epoch 7000 loss: 3.21544\n",
            "Epoch 7100 loss: 3.21544\n",
            "Epoch 7200 loss: 3.21544\n",
            "Epoch 7300 loss: 3.21544\n",
            "Epoch 7400 loss: 3.21544\n",
            "Epoch 7500 loss: 3.21544\n",
            "Epoch 7600 loss: 3.21544\n",
            "Epoch 7700 loss: 3.21544\n",
            "Epoch 7800 loss: 3.21544\n",
            "Epoch 7900 loss: 3.21544\n",
            "Epoch 8000 loss: 3.21544\n",
            "Epoch 8100 loss: 3.21544\n",
            "Epoch 8200 loss: 3.21544\n",
            "Epoch 8300 loss: 3.21544\n",
            "Epoch 8400 loss: 3.21544\n",
            "Epoch 8500 loss: 3.21544\n",
            "Epoch 8600 loss: 3.21544\n",
            "Epoch 8700 loss: 3.21544\n",
            "Epoch 8800 loss: 3.21544\n",
            "Epoch 8900 loss: 3.21544\n",
            "Epoch 9000 loss: 3.21544\n",
            "Epoch 9100 loss: 3.21544\n",
            "Epoch 9200 loss: 3.21544\n",
            "Epoch 9300 loss: 3.21544\n",
            "Epoch 9400 loss: 3.21544\n",
            "Epoch 9500 loss: 3.21544\n",
            "Epoch 9600 loss: 3.21544\n",
            "Epoch 9700 loss: 3.21544\n",
            "Epoch 9800 loss: 3.21544\n",
            "Epoch 9900 loss: 3.21544\n"
          ]
        }
      ]
    },
    {
      "cell_type": "code",
      "metadata": {
        "id": "8Dem98PE_ApM",
        "outputId": "c0a3cf40-da42-445e-f53c-98d6d9f56d77",
        "colab": {
          "base_uri": "https://localhost:8080/",
          "height": 552
        }
      },
      "source": [
        "# 結果のグラフ化\n",
        "labels_pred2 = net2(inputs_test)\n",
        "\n",
        "plt.title('隠れ層２層　活性化関数なし')\n",
        "plt.scatter(inputs_test[:,0].data, labels_pred2[:,0].data, c='b', label='予測値')\n",
        "plt.scatter(inputs_test[:,0].data, labels_test[:,0].data, c='k', marker='x',label='正解値')\n",
        "plt.legend()\n",
        "plt.show()\n"
      ],
      "execution_count": 19,
      "outputs": [
        {
          "output_type": "display_data",
          "data": {
            "text/plain": [
              "<Figure size 600x600 with 1 Axes>"
            ],
            "image/png": "[encoded data removed]"
          },
          "metadata": {}
        }
      ]
    },
    {
      "cell_type": "markdown",
      "metadata": {
        "id": "PFvMf5on_TwP"
      },
      "source": [
        "### ディープラーニング(活性化関数あり)の場合"
      ]
    },
    {
      "cell_type": "code",
      "metadata": {
        "id": "R-oqefSk_FiB"
      },
      "source": [
        "# モデルの定義\n",
        "\n",
        "class Net3(nn.Module):\n",
        "    def __init__(self):\n",
        "        #  親クラスnn.Modulesの初期化呼び出し\n",
        "        super().__init__()\n",
        "\n",
        "        # 出力層の定義\n",
        "        self.l1 = nn.Linear(1, 10)\n",
        "        self.l2 = nn.Linear(10, 10)\n",
        "        self.l3 = nn.Linear(10,1)\n",
        "        self.relu = nn.ReLU(inplace=True)\n",
        "\n",
        "    # 予測関数の定義\n",
        "    def forward(self, x):\n",
        "        x1 = self.relu(self.l1(x))\n",
        "        x2 = self.relu(self.l2(x1))\n",
        "        x3 = self.l3(x2)\n",
        "        return x3"
      ],
      "execution_count": 20,
      "outputs": []
    },
    {
      "cell_type": "code",
      "metadata": {
        "id": "5W9FC-Hm_IDA"
      },
      "source": [
        "# 学習率\n",
        "lr = 0.01\n",
        "\n",
        "# インスタンス生成　(パラメータ値初期化)\n",
        "net3 = Net3()\n",
        "\n",
        "# 最適化アルゴリズム: 勾配降下法\n",
        "optimizer = optim.SGD(net3.parameters(), lr=lr)\n",
        "\n",
        "# 損失関数： 最小二乗誤差\n",
        "criterion = nn.MSELoss()\n",
        "\n",
        "# 繰り返し回数\n",
        "num_epochs = 10000\n",
        "\n",
        "# 評価結果記録用 (損失関数値のみ記録)\n",
        "history = np.zeros((0,2))"
      ],
      "execution_count": 21,
      "outputs": []
    },
    {
      "cell_type": "code",
      "metadata": {
        "id": "o0EmBr7b_n9l",
        "outputId": "7a177037-54b7-4c57-d547-6609913208d2",
        "colab": {
          "base_uri": "https://localhost:8080/"
        }
      },
      "source": [
        "# 繰り返し計算メインループ\n",
        "\n",
        "for epoch in range(num_epochs):\n",
        "\n",
        "    # 勾配値初期化\n",
        "    optimizer.zero_grad()\n",
        "\n",
        "    # 予測計算\n",
        "    outputs = net3(inputs)\n",
        "\n",
        "    # 誤差計算\n",
        "    loss = criterion(outputs, labels)\n",
        "\n",
        "    #勾配計算\n",
        "    loss.backward()\n",
        "\n",
        "    # 勾配降下法の適用\n",
        "    optimizer.step()\n",
        "\n",
        "    # 100回ごとに途中経過を記録する\n",
        "    if ( epoch % 100 == 0):\n",
        "        history = np.vstack((history, np.array([epoch, loss.item()])))\n",
        "        print(f'Epoch {epoch} loss: {loss.item():.5f}')"
      ],
      "execution_count": 22,
      "outputs": [
        {
          "output_type": "stream",
          "name": "stdout",
          "text": [
            "Epoch 0 loss: 6.41469\n",
            "Epoch 100 loss: 1.57010\n",
            "Epoch 200 loss: 0.21561\n",
            "Epoch 300 loss: 0.17553\n",
            "Epoch 400 loss: 0.15658\n",
            "Epoch 500 loss: 0.13297\n",
            "Epoch 600 loss: 0.10924\n",
            "Epoch 700 loss: 0.08813\n",
            "Epoch 800 loss: 0.06951\n",
            "Epoch 900 loss: 0.05441\n",
            "Epoch 1000 loss: 0.04356\n",
            "Epoch 1100 loss: 0.03684\n",
            "Epoch 1200 loss: 0.03174\n",
            "Epoch 1300 loss: 0.02831\n",
            "Epoch 1400 loss: 0.02494\n",
            "Epoch 1500 loss: 0.02222\n",
            "Epoch 1600 loss: 0.02003\n",
            "Epoch 1700 loss: 0.01850\n",
            "Epoch 1800 loss: 0.01749\n",
            "Epoch 1900 loss: 0.01687\n",
            "Epoch 2000 loss: 0.01645\n",
            "Epoch 2100 loss: 0.01589\n",
            "Epoch 2200 loss: 0.01537\n",
            "Epoch 2300 loss: 0.01501\n",
            "Epoch 2400 loss: 0.01476\n",
            "Epoch 2500 loss: 0.01457\n",
            "Epoch 2600 loss: 0.01442\n",
            "Epoch 2700 loss: 0.01431\n",
            "Epoch 2800 loss: 0.01421\n",
            "Epoch 2900 loss: 0.01412\n",
            "Epoch 3000 loss: 0.01405\n",
            "Epoch 3100 loss: 0.01398\n",
            "Epoch 3200 loss: 0.01392\n",
            "Epoch 3300 loss: 0.01386\n",
            "Epoch 3400 loss: 0.01380\n",
            "Epoch 3500 loss: 0.01375\n",
            "Epoch 3600 loss: 0.01369\n",
            "Epoch 3700 loss: 0.01365\n",
            "Epoch 3800 loss: 0.01360\n",
            "Epoch 3900 loss: 0.01355\n",
            "Epoch 4000 loss: 0.01350\n",
            "Epoch 4100 loss: 0.01346\n",
            "Epoch 4200 loss: 0.01342\n",
            "Epoch 4300 loss: 0.01338\n",
            "Epoch 4400 loss: 0.01334\n",
            "Epoch 4500 loss: 0.01329\n",
            "Epoch 4600 loss: 0.01326\n",
            "Epoch 4700 loss: 0.01322\n",
            "Epoch 4800 loss: 0.01318\n",
            "Epoch 4900 loss: 0.01315\n",
            "Epoch 5000 loss: 0.01311\n",
            "Epoch 5100 loss: 0.01308\n",
            "Epoch 5200 loss: 0.01305\n",
            "Epoch 5300 loss: 0.01302\n",
            "Epoch 5400 loss: 0.01299\n",
            "Epoch 5500 loss: 0.01296\n",
            "Epoch 5600 loss: 0.01293\n",
            "Epoch 5700 loss: 0.01290\n",
            "Epoch 5800 loss: 0.01287\n",
            "Epoch 5900 loss: 0.01285\n",
            "Epoch 6000 loss: 0.01282\n",
            "Epoch 6100 loss: 0.01279\n",
            "Epoch 6200 loss: 0.01276\n",
            "Epoch 6300 loss: 0.01274\n",
            "Epoch 6400 loss: 0.01271\n",
            "Epoch 6500 loss: 0.01268\n",
            "Epoch 6600 loss: 0.01266\n",
            "Epoch 6700 loss: 0.01264\n",
            "Epoch 6800 loss: 0.01262\n",
            "Epoch 6900 loss: 0.01260\n",
            "Epoch 7000 loss: 0.01258\n",
            "Epoch 7100 loss: 0.01256\n",
            "Epoch 7200 loss: 0.01254\n",
            "Epoch 7300 loss: 0.01252\n",
            "Epoch 7400 loss: 0.01250\n",
            "Epoch 7500 loss: 0.01249\n",
            "Epoch 7600 loss: 0.01247\n",
            "Epoch 7700 loss: 0.01245\n",
            "Epoch 7800 loss: 0.01244\n",
            "Epoch 7900 loss: 0.01242\n",
            "Epoch 8000 loss: 0.01241\n",
            "Epoch 8100 loss: 0.01239\n",
            "Epoch 8200 loss: 0.01238\n",
            "Epoch 8300 loss: 0.01236\n",
            "Epoch 8400 loss: 0.01235\n",
            "Epoch 8500 loss: 0.01234\n",
            "Epoch 8600 loss: 0.01232\n",
            "Epoch 8700 loss: 0.01231\n",
            "Epoch 8800 loss: 0.01230\n",
            "Epoch 8900 loss: 0.01229\n",
            "Epoch 9000 loss: 0.01227\n",
            "Epoch 9100 loss: 0.01226\n",
            "Epoch 9200 loss: 0.01225\n",
            "Epoch 9300 loss: 0.01224\n",
            "Epoch 9400 loss: 0.01223\n",
            "Epoch 9500 loss: 0.01222\n",
            "Epoch 9600 loss: 0.01221\n",
            "Epoch 9700 loss: 0.01220\n",
            "Epoch 9800 loss: 0.01219\n",
            "Epoch 9900 loss: 0.01218\n"
          ]
        }
      ]
    },
    {
      "cell_type": "code",
      "metadata": {
        "id": "6JFjZsuD_vBE",
        "outputId": "860a02e7-2c03-422c-d38a-46898e7f5c98",
        "colab": {
          "base_uri": "https://localhost:8080/",
          "height": 552
        }
      },
      "source": [
        "# 結果の可視化\n",
        "labels_pred3 = net3(inputs_test)\n",
        "\n",
        "plt.title('隠れ層２層　活性化関数あり')\n",
        "plt.scatter(inputs_test[:,0].data, labels_pred3[:,0].data, c='b', label='予測値')\n",
        "plt.scatter(inputs_test[:,0].data, labels_test[:,0].data, c='k', marker='x',label='正解値')\n",
        "plt.legend()\n",
        "plt.show()\n"
      ],
      "execution_count": 23,
      "outputs": [
        {
          "output_type": "display_data",
          "data": {
            "text/plain": [
              "<Figure size 600x600 with 1 Axes>"
            ],
            "image/png": "[encoded data removed]"
          },
          "metadata": {}
        }
      ]
    },
    {
      "cell_type": "code",
      "metadata": {
        "id": "A5uo6qCu_r2e"
      },
      "source": [],
      "execution_count": null,
      "outputs": []
    }
  ]
}