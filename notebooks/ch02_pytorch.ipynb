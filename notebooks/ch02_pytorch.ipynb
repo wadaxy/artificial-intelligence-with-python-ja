{
  "nbformat": 4,
  "nbformat_minor": 0,
  "metadata": {
    "colab": {
      "provenance": [],
      "toc_visible": true,
      "include_colab_link": true
    },
    "kernelspec": {
      "display_name": "Python 3",
      "language": "python",
      "name": "python3"
    },
    "language_info": {
      "codemirror_mode": {
        "name": "ipython",
        "version": 3
      },
      "file_extension": ".py",
      "mimetype": "text/x-python",
      "name": "python",
      "nbconvert_exporter": "python",
      "pygments_lexer": "ipython3",
      "version": "3.8.5"
    }
  },
  "cells": [
    {
      "cell_type": "markdown",
      "metadata": {
        "id": "view-in-github",
        "colab_type": "text"
      },
      "source": [
        "<a href=\"https://colab.research.google.com/github/wadaxy/artificial-intelligence-with-python-ja/blob/master/notebooks/ch02_pytorch.ipynb\" target=\"_parent\"><img src=\"https://colab.research.google.com/assets/colab-badge.svg\" alt=\"Open In Colab\"/></a>"
      ]
    },
    {
      "cell_type": "markdown",
      "metadata": {
        "id": "y-enheccNr_a"
      },
      "source": [
        "# 2章 PyTorch入門"
      ]
    },
    {
      "cell_type": "code",
      "metadata": {
        "id": "vViOXOAVNr_d",
        "colab": {
          "base_uri": "https://localhost:8080/"
        },
        "outputId": "792a2640-95cc-4765-c46d-f19009bb95c9"
      },
      "source": [
        "# 必要ライブラリの導入\n",
        "\n",
        "!pip install japanize_matplotlib | tail -n 1\n",
        "!pip install torchviz | tail -n 1"
      ],
      "execution_count": 1,
      "outputs": [
        {
          "output_type": "stream",
          "name": "stdout",
          "text": [
            "Successfully installed japanize_matplotlib-1.1.3\n",
            "Successfully installed nvidia-cublas-cu12-12.4.5.8 nvidia-cuda-cupti-cu12-12.4.127 nvidia-cuda-nvrtc-cu12-12.4.127 nvidia-cuda-runtime-cu12-12.4.127 nvidia-cudnn-cu12-9.1.0.70 nvidia-cufft-cu12-11.2.1.3 nvidia-curand-cu12-10.3.5.147 nvidia-cusolver-cu12-11.6.1.9 nvidia-cusparse-cu12-12.3.1.170 nvidia-nvjitlink-cu12-12.4.127 torchviz-0.0.3\n"
          ]
        }
      ]
    },
    {
      "cell_type": "code",
      "metadata": {
        "id": "jfMls7nCNr_e"
      },
      "source": [
        "# 必要ライブラリのインポート\n",
        "\n",
        "%matplotlib inline\n",
        "import numpy as np\n",
        "import matplotlib.pyplot as plt\n",
        "import japanize_matplotlib\n",
        "from IPython.display import display"
      ],
      "execution_count": 2,
      "outputs": []
    },
    {
      "cell_type": "code",
      "metadata": {
        "id": "pU48DdrNNr_e"
      },
      "source": [
        "# デフォルトフォントサイズ変更\n",
        "plt.rcParams['font.size'] = 14\n",
        "\n",
        "# デフォルトグラフサイズ変更\n",
        "plt.rcParams['figure.figsize'] = (6,6)\n",
        "\n",
        "# デフォルトで方眼表示ON\n",
        "plt.rcParams['axes.grid'] = True"
      ],
      "execution_count": 3,
      "outputs": []
    },
    {
      "cell_type": "markdown",
      "metadata": {
        "id": "9rmD_Xk2Nr_f"
      },
      "source": [
        "## 2.2 テンソル"
      ]
    },
    {
      "cell_type": "markdown",
      "metadata": {
        "id": "IB73VStvNr_f"
      },
      "source": [
        "### ライブラリインポート"
      ]
    },
    {
      "cell_type": "code",
      "metadata": {
        "id": "VO_-PyPRNr_f",
        "scrolled": true
      },
      "source": [
        "# PyTorchライブラリ\n",
        "\n",
        "import torch"
      ],
      "execution_count": 4,
      "outputs": []
    },
    {
      "cell_type": "markdown",
      "metadata": {
        "id": "vc5dvrZgNr_f"
      },
      "source": [
        "### いろいろな階数のTensorを作る"
      ]
    },
    {
      "cell_type": "code",
      "metadata": {
        "id": "4I1RggAmNr_g",
        "colab": {
          "base_uri": "https://localhost:8080/"
        },
        "outputId": "c2724593-fdaa-438f-841b-ebe3f532e9c2"
      },
      "source": [
        "# 0階テンソル (スカラー)\n",
        "# floatは必ずつけて、dtype(テンソル変数の要素のデータ型)をfloat32に変換しておく\n",
        "# これを忘れると、dtypeがfloat64になり、nn.Linearなど機械学習ライブラリーでエラーになってしまう。\n",
        "r0 = torch.tensor(1.0).float()\n",
        "\n",
        "# typeを調べる\n",
        "print(type(r0))\n",
        "\n",
        "# dtypeを調べる\n",
        "print(r0.dtype)"
      ],
      "execution_count": 5,
      "outputs": [
        {
          "output_type": "stream",
          "name": "stdout",
          "text": [
            "<class 'torch.Tensor'>\n",
            "torch.float32\n"
          ]
        }
      ]
    },
    {
      "cell_type": "code",
      "metadata": {
        "id": "-VgfrubLNr_g",
        "colab": {
          "base_uri": "https://localhost:8080/"
        },
        "outputId": "1098661e-e184-4941-fe37-6da69a6ea065"
      },
      "source": [
        "# shapeを調べる\n",
        "# shapeとは要素数のことである\n",
        "print(r0.shape)\n",
        "\n",
        "# データを調べる\n",
        "print(r0.data)"
      ],
      "execution_count": 6,
      "outputs": [
        {
          "output_type": "stream",
          "name": "stdout",
          "text": [
            "torch.Size([])\n",
            "tensor(1.)\n"
          ]
        }
      ]
    },
    {
      "cell_type": "code",
      "metadata": {
        "id": "X0D_1LNKNr_g",
        "colab": {
          "base_uri": "https://localhost:8080/"
        },
        "outputId": "87ba5b33-4465-4216-c1b7-063ba565782b"
      },
      "source": [
        "# 1階テンソル (ベクトル)\n",
        "\n",
        "# 1階のNumPy変数作成\n",
        "r1_np = np.array([1, 2, 3, 4, 5])\n",
        "print(r1_np.shape)\n",
        "\n",
        "# NumPyからテンソルに変換\n",
        "r1 = torch.tensor(r1_np).float()\n",
        "\n",
        "# dtypeを調べる\n",
        "print(r1.dtype)\n",
        "\n",
        "# shapeを調べる\n",
        "print(r1.shape)\n",
        "\n",
        "# データを調べる\n",
        "# 純粋に数値だけにしたい場合\n",
        "print(r1.data)"
      ],
      "execution_count": 7,
      "outputs": [
        {
          "output_type": "stream",
          "name": "stdout",
          "text": [
            "(5,)\n",
            "torch.float32\n",
            "torch.Size([5])\n",
            "tensor([1., 2., 3., 4., 5.])\n"
          ]
        }
      ]
    },
    {
      "cell_type": "code",
      "metadata": {
        "id": "VamMmZJYNr_h",
        "colab": {
          "base_uri": "https://localhost:8080/"
        },
        "outputId": "f836f026-283a-4a79-d733-b37b1352e072"
      },
      "source": [
        "# 2階テンソル (行列)\n",
        "\n",
        "# 2階のNmPy変数作成\n",
        "r2_np = np.array([[1, 5, 6], [4, 3, 2]])\n",
        "print(r2_np.shape)\n",
        "\n",
        "# NumPyからテンソルに変換\n",
        "r2 = torch.tensor(r2_np).float()\n",
        "\n",
        "# shapeを調べる\n",
        "print(r2.shape)\n",
        "\n",
        "# データを調べる\n",
        "print(r2.data)"
      ],
      "execution_count": 8,
      "outputs": [
        {
          "output_type": "stream",
          "name": "stdout",
          "text": [
            "(2, 3)\n",
            "torch.Size([2, 3])\n",
            "tensor([[1., 5., 6.],\n",
            "        [4., 3., 2.]])\n"
          ]
        }
      ]
    },
    {
      "cell_type": "code",
      "metadata": {
        "id": "2X7xX5adNr_h",
        "colab": {
          "base_uri": "https://localhost:8080/"
        },
        "outputId": "d8dd227e-d0a0-403e-f91e-a157fdf760e6"
      },
      "source": [
        "# ３階テンソル\n",
        "\n",
        "# 乱数seedの初期化\n",
        "torch.manual_seed(123)\n",
        "\n",
        "# shape=[3,2,2]の正規分布変数テンソルを作る\n",
        "r3 = torch.randn((3, 2, 2))\n",
        "\n",
        "# shapeを調べる\n",
        "print(r3.shape)\n",
        "\n",
        "# データを調べる\n",
        "print(r3.data)"
      ],
      "execution_count": 9,
      "outputs": [
        {
          "output_type": "stream",
          "name": "stdout",
          "text": [
            "torch.Size([3, 2, 2])\n",
            "tensor([[[-0.1115,  0.1204],\n",
            "         [-0.3696, -0.2404]],\n",
            "\n",
            "        [[-1.1969,  0.2093],\n",
            "         [-0.9724, -0.7550]],\n",
            "\n",
            "        [[ 0.3239, -0.1085],\n",
            "         [ 0.2103, -0.3908]]])\n"
          ]
        }
      ]
    },
    {
      "cell_type": "code",
      "metadata": {
        "id": "bUB69bIeNr_h",
        "colab": {
          "base_uri": "https://localhost:8080/"
        },
        "outputId": "17bd85c4-cd7c-4bd5-ad9d-863833d6f7a2"
      },
      "source": [
        "# 4階テンソル\n",
        "\n",
        "# shape=[2,3,2,2]の要素がすべて1のテンソルを作る\n",
        "r4 = torch.ones((2, 3, 2, 2))\n",
        "\n",
        "# shapeを調べる\n",
        "print(r4.shape)\n",
        "\n",
        "# データを調べる\n",
        "print(r4.data)"
      ],
      "execution_count": 10,
      "outputs": [
        {
          "output_type": "stream",
          "name": "stdout",
          "text": [
            "torch.Size([2, 3, 2, 2])\n",
            "tensor([[[[1., 1.],\n",
            "          [1., 1.]],\n",
            "\n",
            "         [[1., 1.],\n",
            "          [1., 1.]],\n",
            "\n",
            "         [[1., 1.],\n",
            "          [1., 1.]]],\n",
            "\n",
            "\n",
            "        [[[1., 1.],\n",
            "          [1., 1.]],\n",
            "\n",
            "         [[1., 1.],\n",
            "          [1., 1.]],\n",
            "\n",
            "         [[1., 1.],\n",
            "          [1., 1.]]]])\n"
          ]
        }
      ]
    },
    {
      "cell_type": "markdown",
      "metadata": {
        "id": "f9-sP0S1Nr_i"
      },
      "source": [
        "### 整数型テンソルを作る"
      ]
    },
    {
      "cell_type": "code",
      "metadata": {
        "id": "R-0ZFcwrNr_i",
        "colab": {
          "base_uri": "https://localhost:8080/"
        },
        "outputId": "9a3b6a3a-6f65-455a-c9eb-21e469d9b073"
      },
      "source": [
        "# 多値分類用損失関数の呼び出しの際に整数型を指定する必要がある\n",
        "r5 = r1.long()\n",
        "\n",
        "# dtype　を確認\n",
        "print(r5.dtype)\n",
        "\n",
        "# 値を確認\n",
        "print(r5)"
      ],
      "execution_count": 11,
      "outputs": [
        {
          "output_type": "stream",
          "name": "stdout",
          "text": [
            "torch.int64\n",
            "tensor([1, 2, 3, 4, 5])\n"
          ]
        }
      ]
    },
    {
      "cell_type": "markdown",
      "metadata": {
        "id": "xBG7lLjANr_i"
      },
      "source": [
        "### view関数"
      ]
    },
    {
      "cell_type": "code",
      "metadata": {
        "id": "LPPH3l5sNr_i",
        "colab": {
          "base_uri": "https://localhost:8080/"
        },
        "outputId": "4cad039b-8997-40d0-f3ae-b5b79dd3b0d0"
      },
      "source": [
        "# 2階化\n",
        "# 要素数に-1を指定すると、この数を自動調整する\n",
        "#\n",
        "#  r3 = tensor([[[-0.1115,  0.1204],\n",
        "#                [-0.3696, -0.2404]],\n",
        "#\n",
        "#               [[-1.1969,  0.2093],\n",
        "#                [-0.9724, -0.7550]],\n",
        "#\n",
        "#               [[ 0.3239, -0.1085],\n",
        "#                [ 0.2103, -0.3908]]])\n",
        "\n",
        "#  3回テンソルを2(-1)階テンソルにする\n",
        "r6 = r3.view(3, -1)\n",
        "\n",
        "# shape確認\n",
        "print(r6.shape)\n",
        "\n",
        "# 値確認\n",
        "print(r6.data)"
      ],
      "execution_count": 12,
      "outputs": [
        {
          "output_type": "stream",
          "name": "stdout",
          "text": [
            "torch.Size([3, 4])\n",
            "tensor([[-0.1115,  0.1204, -0.3696, -0.2404],\n",
            "        [-1.1969,  0.2093, -0.9724, -0.7550],\n",
            "        [ 0.3239, -0.1085,  0.2103, -0.3908]])\n"
          ]
        }
      ]
    },
    {
      "cell_type": "code",
      "metadata": {
        "id": "BXeVtrWVNr_i",
        "scrolled": false,
        "colab": {
          "base_uri": "https://localhost:8080/"
        },
        "outputId": "7d1c1d72-15ff-4e37-88f0-76d5c4a553f1"
      },
      "source": [
        "# 1階化\n",
        "# 要素数に-1を指定すると、この数を自動調整する\n",
        "\n",
        "r7 = r3.view(-1)\n",
        "\n",
        "# shape確認\n",
        "print(r7.shape)\n",
        "\n",
        "# 値確認\n",
        "print(r7.data)"
      ],
      "execution_count": 13,
      "outputs": [
        {
          "output_type": "stream",
          "name": "stdout",
          "text": [
            "torch.Size([12])\n",
            "tensor([-0.1115,  0.1204, -0.3696, -0.2404, -1.1969,  0.2093, -0.9724, -0.7550,\n",
            "         0.3239, -0.1085,  0.2103, -0.3908])\n"
          ]
        }
      ]
    },
    {
      "cell_type": "markdown",
      "metadata": {
        "id": "Xv5pRJK1Nr_j"
      },
      "source": [
        "### それ以外の属性"
      ]
    },
    {
      "cell_type": "code",
      "metadata": {
        "id": "5ZYg-dcENr_j",
        "colab": {
          "base_uri": "https://localhost:8080/"
        },
        "outputId": "23a93c85-964f-4d2d-dd2d-60755b70dcd9"
      },
      "source": [
        "# requires_grad属性\n",
        "# 自動微分機能と関係（2.3節）\n",
        "print('requires_grad: ', r1.requires_grad)\n",
        "\n",
        "# device属性\n",
        "# GPU計算と関係（8章）\n",
        "print('device: ', r1.device)"
      ],
      "execution_count": 14,
      "outputs": [
        {
          "output_type": "stream",
          "name": "stdout",
          "text": [
            "requires_grad:  False\n",
            "device:  cpu\n"
          ]
        }
      ]
    },
    {
      "cell_type": "markdown",
      "metadata": {
        "id": "0g-6LRsnNr_j"
      },
      "source": [
        "### item関数"
      ]
    },
    {
      "cell_type": "code",
      "metadata": {
        "id": "Tu3wXoDFNr_j",
        "scrolled": false,
        "colab": {
          "base_uri": "https://localhost:8080/"
        },
        "outputId": "54256854-e486-4099-e7be-3c93cc4feea4"
      },
      "source": [
        "# スカラーテンソル(0階テンソル)に対してはitem関数で値を取り出せる\n",
        "# 計算結果テンソルとしてのLOSS(損失)から、データ記録用に値だけを抽出する場合によく用いる\n",
        "\n",
        "item = r0.item()\n",
        "\n",
        "print(type(item))\n",
        "print(item)"
      ],
      "execution_count": 15,
      "outputs": [
        {
          "output_type": "stream",
          "name": "stdout",
          "text": [
            "<class 'float'>\n",
            "1.0\n"
          ]
        }
      ]
    },
    {
      "cell_type": "code",
      "metadata": {
        "id": "zwi8v5C0Nr_j",
        "colab": {
          "base_uri": "https://localhost:8080/",
          "height": 182
        },
        "outputId": "3ab654cd-be7b-44a4-ccdb-173bbca595e2"
      },
      "source": [
        "# 0階以外のテンソルにitem関数は無効\n",
        "# r1_np = np.array([1, 2, 3, 4, 5])\n",
        "\n",
        "print(r1.item())"
      ],
      "execution_count": 16,
      "outputs": [
        {
          "output_type": "error",
          "ename": "RuntimeError",
          "evalue": "a Tensor with 5 elements cannot be converted to Scalar",
          "traceback": [
            "\u001b[0;31m---------------------------------------------------------------------------\u001b[0m",
            "\u001b[0;31mRuntimeError\u001b[0m                              Traceback (most recent call last)",
            "\u001b[0;32m/tmp/ipython-input-16-1793377199.py\u001b[0m in \u001b[0;36m<cell line: 0>\u001b[0;34m()\u001b[0m\n\u001b[1;32m      2\u001b[0m \u001b[0;31m# r1_np = np.array([1, 2, 3, 4, 5])\u001b[0m\u001b[0;34m\u001b[0m\u001b[0;34m\u001b[0m\u001b[0m\n\u001b[1;32m      3\u001b[0m \u001b[0;34m\u001b[0m\u001b[0m\n\u001b[0;32m----> 4\u001b[0;31m \u001b[0mprint\u001b[0m\u001b[0;34m(\u001b[0m\u001b[0mr1\u001b[0m\u001b[0;34m.\u001b[0m\u001b[0mitem\u001b[0m\u001b[0;34m(\u001b[0m\u001b[0;34m)\u001b[0m\u001b[0;34m)\u001b[0m\u001b[0;34m\u001b[0m\u001b[0;34m\u001b[0m\u001b[0m\n\u001b[0m",
            "\u001b[0;31mRuntimeError\u001b[0m: a Tensor with 5 elements cannot be converted to Scalar"
          ]
        }
      ]
    },
    {
      "cell_type": "code",
      "metadata": {
        "id": "dvE5Cy3iNr_k",
        "colab": {
          "base_uri": "https://localhost:8080/"
        },
        "outputId": "b699035f-ed37-4cd1-f886-54fab831f7fa"
      },
      "source": [
        "# 要素数が1つだけの1階テンソルはOK\n",
        "# (2階以上でも同様)\n",
        "t1 = torch.ones(1)\n",
        "\n",
        "# shape確認\n",
        "print(t1.shape)\n",
        "\n",
        "# item関数呼び出し\n",
        "print(t1.item())"
      ],
      "execution_count": 17,
      "outputs": [
        {
          "output_type": "stream",
          "name": "stdout",
          "text": [
            "torch.Size([1])\n",
            "1.0\n"
          ]
        }
      ]
    },
    {
      "cell_type": "markdown",
      "metadata": {
        "id": "JnrnIuI-Nr_k"
      },
      "source": [
        "### max関数"
      ]
    },
    {
      "cell_type": "code",
      "metadata": {
        "id": "bwyLGh_SNr_k",
        "colab": {
          "base_uri": "https://localhost:8080/"
        },
        "outputId": "e3e7df4b-ca91-4388-c451-aae60390f153"
      },
      "source": [
        "# 元テンソルr2の確認\n",
        "print(r2)\n",
        "\n",
        "# max関数を引数なしで呼び出すと、全体の最大値が取得できる\n",
        "print(r2.max())"
      ],
      "execution_count": 18,
      "outputs": [
        {
          "output_type": "stream",
          "name": "stdout",
          "text": [
            "tensor([[1., 5., 6.],\n",
            "        [4., 3., 2.]])\n",
            "tensor(6.)\n"
          ]
        }
      ]
    },
    {
      "cell_type": "code",
      "metadata": {
        "id": "kLkNmIS9Nr_k",
        "colab": {
          "base_uri": "https://localhost:8080/"
        },
        "outputId": "9b99e858-1732-46e6-c3fb-0a136fddb178"
      },
      "source": [
        "# torch.max関数\n",
        "# 2つめの引数はどの軸で集約するかを意味する\n",
        "# 二階テンソルの場合：\n",
        "# 軸=1は行方向の集計  軸0は列方向の集計を意味する\n",
        "print(torch.max(r2, 1))"
      ],
      "execution_count": 19,
      "outputs": [
        {
          "output_type": "stream",
          "name": "stdout",
          "text": [
            "torch.return_types.max(\n",
            "values=tensor([6., 4.]),\n",
            "indices=tensor([2, 0]))\n"
          ]
        }
      ]
    },
    {
      "cell_type": "code",
      "metadata": {
        "id": "lwiblU1vNr_l",
        "colab": {
          "base_uri": "https://localhost:8080/"
        },
        "outputId": "2dfb4a03-d434-414f-ac78-2bcb0a266591"
      },
      "source": [
        "# 何番目の要素が最大値をとるかは、indicesを調べればいい\n",
        "# 以下の計算は、多値分類で予測ラベルを求めるときによく利用されるパターン\n",
        "# [1]を付けると、indexのみを抽出できる\n",
        "print(torch.max(r2, 1)[1])"
      ],
      "execution_count": 20,
      "outputs": [
        {
          "output_type": "stream",
          "name": "stdout",
          "text": [
            "tensor([2, 0])\n"
          ]
        }
      ]
    },
    {
      "cell_type": "markdown",
      "metadata": {
        "id": "W-CE04b7Nr_l"
      },
      "source": [
        "### NumPy変数への変換"
      ]
    },
    {
      "cell_type": "code",
      "metadata": {
        "id": "WPimA-EMNr_l",
        "colab": {
          "base_uri": "https://localhost:8080/"
        },
        "outputId": "a211e3a1-3f3c-433a-82a0-aae568e6fdbe"
      },
      "source": [
        "# NumPy化\n",
        "# r2はテンソルである\n",
        "r2_np = r2.data.numpy()\n",
        "\n",
        "# type 確認\n",
        "print(type(r2_np))\n",
        "\n",
        "# 値確認\n",
        "print(r2_np)"
      ],
      "execution_count": 21,
      "outputs": [
        {
          "output_type": "stream",
          "name": "stdout",
          "text": [
            "<class 'numpy.ndarray'>\n",
            "[[1. 5. 6.]\n",
            " [4. 3. 2.]]\n"
          ]
        }
      ]
    },
    {
      "cell_type": "markdown",
      "metadata": {
        "id": "85on1hQ4Nr_l"
      },
      "source": [
        "## 2.4 ２次関数の勾配計算"
      ]
    },
    {
      "cell_type": "markdown",
      "metadata": {
        "id": "YiUz1baKNr_l"
      },
      "source": [
        " ### データ準備"
      ]
    },
    {
      "cell_type": "code",
      "metadata": {
        "id": "2K1rvdhiNr_l"
      },
      "source": [
        "# xをnumpy配列で定義\n",
        "x_np = np.arange(-2, 2.1, 0.25)\n",
        "\n",
        "# xの値表示\n",
        "print(x_np)"
      ],
      "execution_count": null,
      "outputs": []
    },
    {
      "cell_type": "code",
      "metadata": {
        "id": "H_YBx-t9Nr_m"
      },
      "source": [
        "# (1) 勾配計算用変数の定義\n",
        "x = torch.tensor(x_np, requires_grad=True,\n",
        "    dtype=torch.float32)\n",
        "\n",
        "# 結果確認\n",
        "print(x)"
      ],
      "execution_count": null,
      "outputs": []
    },
    {
      "cell_type": "markdown",
      "metadata": {
        "id": "oos9Q69GNr_m"
      },
      "source": [
        "### ２次関数の計算"
      ]
    },
    {
      "cell_type": "code",
      "metadata": {
        "id": "ky1X5hPHNr_m"
      },
      "source": [
        "# 2次関数の計算\n",
        "# 裏で計算グラフが自動生成される\n",
        "\n",
        "y = 2 * x**2 + 2"
      ],
      "execution_count": null,
      "outputs": []
    },
    {
      "cell_type": "markdown",
      "metadata": {
        "id": "iiL8-98INr_m"
      },
      "source": [
        "$ y = 2x^2 + 2$ を意味する"
      ]
    },
    {
      "cell_type": "code",
      "metadata": {
        "id": "m0Pwm9jUNr_m"
      },
      "source": [
        "# yの計算結果確認\n",
        "\n",
        "print(y)"
      ],
      "execution_count": null,
      "outputs": []
    },
    {
      "cell_type": "code",
      "metadata": {
        "id": "-ONyC7tSNr_m"
      },
      "source": [
        "# グラフ描画\n",
        "\n",
        "plt.plot(x.data, y.data)\n",
        "plt.show()"
      ],
      "execution_count": null,
      "outputs": []
    },
    {
      "cell_type": "code",
      "metadata": {
        "id": "L9S2STdKNr_n"
      },
      "source": [
        "# 勾配計算のため、sum 関数で 1階テンソルの関数値をスカラー化する\n",
        "# (sum 関数を各要素で偏微分した結果は1なので、元の関数の微分結果を取得可能 )\n",
        "# ( 詳細はサポートサイトの解説を参照のこと )\n",
        "\n",
        "z = y.sum()"
      ],
      "execution_count": null,
      "outputs": []
    },
    {
      "cell_type": "code",
      "metadata": {
        "id": "HcLI2RtkNr_n"
      },
      "source": [
        "# (3) 計算グラフの可視化\n",
        "\n",
        "# 必要ライブラリのインポート\n",
        "from torchviz import make_dot\n",
        "\n",
        "# 可視化関数の呼び出し\n",
        "g= make_dot(z, params={'x': x})\n",
        "display(g)"
      ],
      "execution_count": null,
      "outputs": []
    },
    {
      "cell_type": "code",
      "metadata": {
        "id": "Cugbjt5WNr_n"
      },
      "source": [
        "# (4) 勾配計算\n",
        "\n",
        "z.backward()"
      ],
      "execution_count": null,
      "outputs": []
    },
    {
      "cell_type": "code",
      "metadata": {
        "id": "Po4-vTPPNr_n"
      },
      "source": [
        "# (5) 勾配値の取得\n",
        "\n",
        "print(x.grad)"
      ],
      "execution_count": null,
      "outputs": []
    },
    {
      "cell_type": "code",
      "metadata": {
        "id": "ZaZ5KFSINr_o"
      },
      "source": [
        "# 元の関数と勾配のグラフ化\n",
        "\n",
        "plt.plot(x.data, y.data, c='b', label='y')\n",
        "plt.plot(x.data, x.grad.data, c='k', label='y.grad')\n",
        "plt.legend()\n",
        "plt.show()"
      ],
      "execution_count": null,
      "outputs": []
    },
    {
      "cell_type": "markdown",
      "metadata": {
        "id": "m5VKJUI0Nr_o"
      },
      "source": [
        "元の関数が2次関数なので、勾配計算の結果が直線になるのは、妥当な結果"
      ]
    },
    {
      "cell_type": "markdown",
      "metadata": {
        "id": "nrBbdRIvNr_o"
      },
      "source": [
        "ここでもう一度勾配計算をしてみる。"
      ]
    },
    {
      "cell_type": "code",
      "metadata": {
        "id": "dOHxzxi0Nr_o"
      },
      "source": [
        "# 勾配の初期化せずに２度目の勾配計算\n",
        "\n",
        "y = 2 * x**2 + 2\n",
        "z = y.sum()\n",
        "z.backward()\n",
        "\n",
        "# xの勾配確認\n",
        "print(x.grad)"
      ],
      "execution_count": null,
      "outputs": []
    },
    {
      "cell_type": "markdown",
      "metadata": {
        "id": "MFsyjUPXNr_o"
      },
      "source": [
        "勾配値は、勾配計算の結果がどんどん加算されてしまう。そのため新しい値を計算したい場合、勾配値のリセットが必要。"
      ]
    },
    {
      "cell_type": "code",
      "metadata": {
        "id": "FURKt3aENr_p"
      },
      "source": [
        "# (6) 勾配の初期化は関数 zero_()を使う\n",
        "\n",
        "x.grad.zero_()\n",
        "print(x.grad)"
      ],
      "execution_count": null,
      "outputs": []
    },
    {
      "cell_type": "markdown",
      "metadata": {
        "id": "F-TnTbjtNr_p"
      },
      "source": [
        "## 2.5 シグモイド関数の勾配計算"
      ]
    },
    {
      "cell_type": "markdown",
      "metadata": {
        "id": "rCQYN3jGNr_p"
      },
      "source": [
        "シグモイド関数は数式で表すと次の形になるが今回はPyTorchで提供されている関数を利用する  \n",
        "$ y = \\dfrac{1}{1 + \\exp{(-x)}} $"
      ]
    },
    {
      "cell_type": "code",
      "metadata": {
        "id": "sl8mxsr7Nr_p"
      },
      "source": [
        "# シグモイド関数の定義\n",
        "sigmoid = torch.nn.Sigmoid()"
      ],
      "execution_count": null,
      "outputs": []
    },
    {
      "cell_type": "code",
      "metadata": {
        "id": "tT7wMVDuNr_p"
      },
      "source": [
        "# (2) yの値の計算\n",
        "\n",
        "y = sigmoid(x)"
      ],
      "execution_count": null,
      "outputs": []
    },
    {
      "cell_type": "code",
      "metadata": {
        "id": "ssP2qjhGNr_p"
      },
      "source": [
        "# グラフ描画\n",
        "\n",
        "plt.plot(x.data, y.data)\n",
        "plt.show()"
      ],
      "execution_count": null,
      "outputs": []
    },
    {
      "cell_type": "code",
      "metadata": {
        "id": "XMXYmt8WNr_q"
      },
      "source": [
        "# 勾配計算のためには、最終値はスカラーの必要があるため、ダミーでsum関数をかける\n",
        "\n",
        "z = y.sum()"
      ],
      "execution_count": null,
      "outputs": []
    },
    {
      "cell_type": "code",
      "metadata": {
        "id": "w3H-6V13Nr_q"
      },
      "source": [
        "# (3) 計算グラフの可視化\n",
        "\n",
        "g = make_dot(z, params={'x': x})\n",
        "display(g)"
      ],
      "execution_count": null,
      "outputs": []
    },
    {
      "cell_type": "code",
      "metadata": {
        "id": "zNpm70XeNr_q"
      },
      "source": [
        "# (4) 勾配計算\n",
        "z.backward()\n",
        "\n",
        "# (5) 勾配値の確認\n",
        "print(x.grad)"
      ],
      "execution_count": null,
      "outputs": []
    },
    {
      "cell_type": "code",
      "metadata": {
        "id": "cyt_foUvNr_q"
      },
      "source": [
        "# 元の関数と勾配のグラフ化\n",
        "\n",
        "plt.plot(x.data, y.data, c='b', label='y')\n",
        "plt.plot(x.data, x.grad.data, c='k', label='y.grad')\n",
        "plt.legend()\n",
        "plt.show()"
      ],
      "execution_count": null,
      "outputs": []
    },
    {
      "cell_type": "markdown",
      "metadata": {
        "id": "0kLX9BV9Nr_q"
      },
      "source": [
        "シグモイド関数の勾配は、$y(1-y)$になる。  \n",
        "2次関数なので、$y=\\dfrac{1}{2}$の時(x=0の時)最大値$\\dfrac{1}{4}$を取る。  \n",
        "上のグラフは、この計算結果と一致している。  "
      ]
    },
    {
      "cell_type": "code",
      "metadata": {
        "id": "d6lbqTXUNr_q"
      },
      "source": [
        "# (6) 勾配の初期化は関数 zero_()を使う\n",
        "\n",
        "x.grad.zero_()\n",
        "print(x.grad)"
      ],
      "execution_count": null,
      "outputs": []
    },
    {
      "cell_type": "markdown",
      "metadata": {
        "id": "7tGBthh4Nr_r"
      },
      "source": [
        "### (参考)シグモイド関数を独自に実装した場合"
      ]
    },
    {
      "cell_type": "code",
      "metadata": {
        "id": "Uofxv02YNr_r"
      },
      "source": [
        "# シグモイド関数の定義\n",
        "\n",
        "def sigmoid(x):\n",
        "    return(1/(1 + torch.exp(-x)))"
      ],
      "execution_count": null,
      "outputs": []
    },
    {
      "cell_type": "code",
      "metadata": {
        "id": "1A2ozRy4Nr_r"
      },
      "source": [
        "# (2) yの値の計算\n",
        "\n",
        "y = sigmoid(x)"
      ],
      "execution_count": null,
      "outputs": []
    },
    {
      "cell_type": "code",
      "metadata": {
        "id": "vaCaLvR5Nr_r"
      },
      "source": [
        "# グラフ描画\n",
        "\n",
        "plt.plot(x.data, y.data)\n",
        "plt.xlabel('x')\n",
        "plt.ylabel('y')\n",
        "plt.title('シグモイド関数のグラフ')\n",
        "plt.show()"
      ],
      "execution_count": null,
      "outputs": []
    },
    {
      "cell_type": "code",
      "metadata": {
        "id": "8HAx2pNbNr_r"
      },
      "source": [
        "# 勾配計算のためには、最終値はスカラーの必要があるため、ダミーでsum関数をかける\n",
        "\n",
        "z = y.sum()"
      ],
      "execution_count": null,
      "outputs": []
    },
    {
      "cell_type": "code",
      "metadata": {
        "id": "m6FR7tA1Nr_r"
      },
      "source": [
        "# (3) 計算グラフの可視化\n",
        "\n",
        "params = {'x': x}\n",
        "g = make_dot(z, params=params)\n",
        "display(g)"
      ],
      "execution_count": null,
      "outputs": []
    },
    {
      "cell_type": "code",
      "metadata": {
        "id": "9nHpZIC3Nr_s"
      },
      "source": [
        "# (4) 勾配計算\n",
        "z.backward()\n",
        "\n",
        "# (5) 勾配値の確認\n",
        "print(x.grad)"
      ],
      "execution_count": null,
      "outputs": []
    },
    {
      "cell_type": "code",
      "metadata": {
        "id": "ip_6cFLmNr_s"
      },
      "source": [
        "# 元の関数と勾配のグラフ化\n",
        "\n",
        "plt.plot(x.data, y.data, c='b', label='y')\n",
        "plt.plot(x.data, x.grad.data, c='k', label='y.grad')\n",
        "plt.legend()\n",
        "plt.show()"
      ],
      "execution_count": null,
      "outputs": []
    },
    {
      "cell_type": "code",
      "metadata": {
        "id": "t-hoxTV7Nr_s"
      },
      "source": [],
      "execution_count": null,
      "outputs": []
    }
  ]
}