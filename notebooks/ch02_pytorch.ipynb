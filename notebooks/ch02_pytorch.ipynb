{
  "nbformat": 4,
  "nbformat_minor": 0,
  "metadata": {
    "colab": {
      "provenance": [],
      "toc_visible": true,
      "include_colab_link": true
    },
    "kernelspec": {
      "display_name": "Python 3",
      "language": "python",
      "name": "python3"
    },
    "language_info": {
      "codemirror_mode": {
        "name": "ipython",
        "version": 3
      },
      "file_extension": ".py",
      "mimetype": "text/x-python",
      "name": "python",
      "nbconvert_exporter": "python",
      "pygments_lexer": "ipython3",
      "version": "3.8.5"
    }
  },
  "cells": [
    {
      "cell_type": "markdown",
      "metadata": {
        "id": "view-in-github",
        "colab_type": "text"
      },
      "source": [
        "<a href=\"https://colab.research.google.com/github/wadaxy/artificial-intelligence-with-python-ja/blob/master/notebooks/ch02_pytorch.ipynb\" target=\"_parent\"><img src=\"https://colab.research.google.com/assets/colab-badge.svg\" alt=\"Open In Colab\"/></a>"
      ]
    },
    {
      "cell_type": "markdown",
      "metadata": {
        "id": "y-enheccNr_a"
      },
      "source": [
        "# 2章 PyTorch入門"
      ]
    },
    {
      "cell_type": "code",
      "metadata": {
        "id": "vViOXOAVNr_d",
        "colab": {
          "base_uri": "https://localhost:8080/"
        },
        "outputId": "792a2640-95cc-4765-c46d-f19009bb95c9"
      },
      "source": [
        "# 必要ライブラリの導入\n",
        "\n",
        "!pip install japanize_matplotlib | tail -n 1\n",
        "!pip install torchviz | tail -n 1"
      ],
      "execution_count": 1,
      "outputs": [
        {
          "output_type": "stream",
          "name": "stdout",
          "text": [
            "Successfully installed japanize_matplotlib-1.1.3\n",
            "Successfully installed nvidia-cublas-cu12-12.4.5.8 nvidia-cuda-cupti-cu12-12.4.127 nvidia-cuda-nvrtc-cu12-12.4.127 nvidia-cuda-runtime-cu12-12.4.127 nvidia-cudnn-cu12-9.1.0.70 nvidia-cufft-cu12-11.2.1.3 nvidia-curand-cu12-10.3.5.147 nvidia-cusolver-cu12-11.6.1.9 nvidia-cusparse-cu12-12.3.1.170 nvidia-nvjitlink-cu12-12.4.127 torchviz-0.0.3\n"
          ]
        }
      ]
    },
    {
      "cell_type": "code",
      "metadata": {
        "id": "jfMls7nCNr_e"
      },
      "source": [
        "# 必要ライブラリのインポート\n",
        "\n",
        "%matplotlib inline\n",
        "import numpy as np\n",
        "import matplotlib.pyplot as plt\n",
        "import japanize_matplotlib\n",
        "from IPython.display import display"
      ],
      "execution_count": 2,
      "outputs": []
    },
    {
      "cell_type": "code",
      "metadata": {
        "id": "pU48DdrNNr_e"
      },
      "source": [
        "# デフォルトフォントサイズ変更\n",
        "plt.rcParams['font.size'] = 14\n",
        "\n",
        "# デフォルトグラフサイズ変更\n",
        "plt.rcParams['figure.figsize'] = (6,6)\n",
        "\n",
        "# デフォルトで方眼表示ON\n",
        "plt.rcParams['axes.grid'] = True"
      ],
      "execution_count": 3,
      "outputs": []
    },
    {
      "cell_type": "markdown",
      "metadata": {
        "id": "9rmD_Xk2Nr_f"
      },
      "source": [
        "## 2.2 テンソル"
      ]
    },
    {
      "cell_type": "markdown",
      "metadata": {
        "id": "IB73VStvNr_f"
      },
      "source": [
        "### ライブラリインポート"
      ]
    },
    {
      "cell_type": "code",
      "metadata": {
        "id": "VO_-PyPRNr_f",
        "scrolled": true
      },
      "source": [
        "# PyTorchライブラリ\n",
        "\n",
        "import torch"
      ],
      "execution_count": 4,
      "outputs": []
    },
    {
      "cell_type": "markdown",
      "metadata": {
        "id": "vc5dvrZgNr_f"
      },
      "source": [
        "### いろいろな階数のTensorを作る"
      ]
    },
    {
      "cell_type": "code",
      "metadata": {
        "id": "4I1RggAmNr_g",
        "colab": {
          "base_uri": "https://localhost:8080/"
        },
        "outputId": "c2724593-fdaa-438f-841b-ebe3f532e9c2"
      },
      "source": [
        "# 0階テンソル (スカラー)\n",
        "# floatは必ずつけて、dtype(テンソル変数の要素のデータ型)をfloat32に変換しておく\n",
        "# これを忘れると、dtypeがfloat64になり、nn.Linearなど機械学習ライブラリーでエラーになってしまう。\n",
        "r0 = torch.tensor(1.0).float()\n",
        "\n",
        "# typeを調べる\n",
        "print(type(r0))\n",
        "\n",
        "# dtypeを調べる\n",
        "print(r0.dtype)"
      ],
      "execution_count": 5,
      "outputs": [
        {
          "output_type": "stream",
          "name": "stdout",
          "text": [
            "<class 'torch.Tensor'>\n",
            "torch.float32\n"
          ]
        }
      ]
    },
    {
      "cell_type": "code",
      "metadata": {
        "id": "-VgfrubLNr_g",
        "colab": {
          "base_uri": "https://localhost:8080/"
        },
        "outputId": "1098661e-e184-4941-fe37-6da69a6ea065"
      },
      "source": [
        "# shapeを調べる\n",
        "# shapeとは要素数のことである\n",
        "print(r0.shape)\n",
        "\n",
        "# データを調べる\n",
        "print(r0.data)"
      ],
      "execution_count": 6,
      "outputs": [
        {
          "output_type": "stream",
          "name": "stdout",
          "text": [
            "torch.Size([])\n",
            "tensor(1.)\n"
          ]
        }
      ]
    },
    {
      "cell_type": "code",
      "metadata": {
        "id": "X0D_1LNKNr_g",
        "colab": {
          "base_uri": "https://localhost:8080/"
        },
        "outputId": "87ba5b33-4465-4216-c1b7-063ba565782b"
      },
      "source": [
        "# 1階テンソル (ベクトル)\n",
        "\n",
        "# 1階のNumPy変数作成\n",
        "r1_np = np.array([1, 2, 3, 4, 5])\n",
        "print(r1_np.shape)\n",
        "\n",
        "# NumPyからテンソルに変換\n",
        "r1 = torch.tensor(r1_np).float()\n",
        "\n",
        "# dtypeを調べる\n",
        "print(r1.dtype)\n",
        "\n",
        "# shapeを調べる\n",
        "print(r1.shape)\n",
        "\n",
        "# データを調べる\n",
        "# 純粋に数値だけにしたい場合\n",
        "print(r1.data)"
      ],
      "execution_count": 7,
      "outputs": [
        {
          "output_type": "stream",
          "name": "stdout",
          "text": [
            "(5,)\n",
            "torch.float32\n",
            "torch.Size([5])\n",
            "tensor([1., 2., 3., 4., 5.])\n"
          ]
        }
      ]
    },
    {
      "cell_type": "code",
      "metadata": {
        "id": "VamMmZJYNr_h",
        "colab": {
          "base_uri": "https://localhost:8080/"
        },
        "outputId": "f836f026-283a-4a79-d733-b37b1352e072"
      },
      "source": [
        "# 2階テンソル (行列)\n",
        "\n",
        "# 2階のNmPy変数作成\n",
        "r2_np = np.array([[1, 5, 6], [4, 3, 2]])\n",
        "print(r2_np.shape)\n",
        "\n",
        "# NumPyからテンソルに変換\n",
        "r2 = torch.tensor(r2_np).float()\n",
        "\n",
        "# shapeを調べる\n",
        "print(r2.shape)\n",
        "\n",
        "# データを調べる\n",
        "print(r2.data)"
      ],
      "execution_count": 8,
      "outputs": [
        {
          "output_type": "stream",
          "name": "stdout",
          "text": [
            "(2, 3)\n",
            "torch.Size([2, 3])\n",
            "tensor([[1., 5., 6.],\n",
            "        [4., 3., 2.]])\n"
          ]
        }
      ]
    },
    {
      "cell_type": "code",
      "metadata": {
        "id": "2X7xX5adNr_h",
        "colab": {
          "base_uri": "https://localhost:8080/"
        },
        "outputId": "d8dd227e-d0a0-403e-f91e-a157fdf760e6"
      },
      "source": [
        "# ３階テンソル\n",
        "\n",
        "# 乱数seedの初期化\n",
        "torch.manual_seed(123)\n",
        "\n",
        "# shape=[3,2,2]の正規分布変数テンソルを作る\n",
        "r3 = torch.randn((3, 2, 2))\n",
        "\n",
        "# shapeを調べる\n",
        "print(r3.shape)\n",
        "\n",
        "# データを調べる\n",
        "print(r3.data)"
      ],
      "execution_count": 9,
      "outputs": [
        {
          "output_type": "stream",
          "name": "stdout",
          "text": [
            "torch.Size([3, 2, 2])\n",
            "tensor([[[-0.1115,  0.1204],\n",
            "         [-0.3696, -0.2404]],\n",
            "\n",
            "        [[-1.1969,  0.2093],\n",
            "         [-0.9724, -0.7550]],\n",
            "\n",
            "        [[ 0.3239, -0.1085],\n",
            "         [ 0.2103, -0.3908]]])\n"
          ]
        }
      ]
    },
    {
      "cell_type": "code",
      "metadata": {
        "id": "bUB69bIeNr_h",
        "colab": {
          "base_uri": "https://localhost:8080/"
        },
        "outputId": "17bd85c4-cd7c-4bd5-ad9d-863833d6f7a2"
      },
      "source": [
        "# 4階テンソル\n",
        "\n",
        "# shape=[2,3,2,2]の要素がすべて1のテンソルを作る\n",
        "r4 = torch.ones((2, 3, 2, 2))\n",
        "\n",
        "# shapeを調べる\n",
        "print(r4.shape)\n",
        "\n",
        "# データを調べる\n",
        "print(r4.data)"
      ],
      "execution_count": 10,
      "outputs": [
        {
          "output_type": "stream",
          "name": "stdout",
          "text": [
            "torch.Size([2, 3, 2, 2])\n",
            "tensor([[[[1., 1.],\n",
            "          [1., 1.]],\n",
            "\n",
            "         [[1., 1.],\n",
            "          [1., 1.]],\n",
            "\n",
            "         [[1., 1.],\n",
            "          [1., 1.]]],\n",
            "\n",
            "\n",
            "        [[[1., 1.],\n",
            "          [1., 1.]],\n",
            "\n",
            "         [[1., 1.],\n",
            "          [1., 1.]],\n",
            "\n",
            "         [[1., 1.],\n",
            "          [1., 1.]]]])\n"
          ]
        }
      ]
    },
    {
      "cell_type": "markdown",
      "metadata": {
        "id": "f9-sP0S1Nr_i"
      },
      "source": [
        "### 整数型テンソルを作る"
      ]
    },
    {
      "cell_type": "code",
      "metadata": {
        "id": "R-0ZFcwrNr_i",
        "colab": {
          "base_uri": "https://localhost:8080/"
        },
        "outputId": "9a3b6a3a-6f65-455a-c9eb-21e469d9b073"
      },
      "source": [
        "# 多値分類用損失関数の呼び出しの際に整数型を指定する必要がある\n",
        "r5 = r1.long()\n",
        "\n",
        "# dtype　を確認\n",
        "print(r5.dtype)\n",
        "\n",
        "# 値を確認\n",
        "print(r5)"
      ],
      "execution_count": 11,
      "outputs": [
        {
          "output_type": "stream",
          "name": "stdout",
          "text": [
            "torch.int64\n",
            "tensor([1, 2, 3, 4, 5])\n"
          ]
        }
      ]
    },
    {
      "cell_type": "markdown",
      "metadata": {
        "id": "xBG7lLjANr_i"
      },
      "source": [
        "### view関数"
      ]
    },
    {
      "cell_type": "code",
      "metadata": {
        "id": "LPPH3l5sNr_i",
        "colab": {
          "base_uri": "https://localhost:8080/"
        },
        "outputId": "4cad039b-8997-40d0-f3ae-b5b79dd3b0d0"
      },
      "source": [
        "# 2階化\n",
        "# 要素数に-1を指定すると、この数を自動調整する\n",
        "#\n",
        "#  r3 = tensor([[[-0.1115,  0.1204],\n",
        "#                [-0.3696, -0.2404]],\n",
        "#\n",
        "#               [[-1.1969,  0.2093],\n",
        "#                [-0.9724, -0.7550]],\n",
        "#\n",
        "#               [[ 0.3239, -0.1085],\n",
        "#                [ 0.2103, -0.3908]]])\n",
        "\n",
        "#  3回テンソルを2(-1)階テンソルにする\n",
        "r6 = r3.view(3, -1)\n",
        "\n",
        "# shape確認\n",
        "print(r6.shape)\n",
        "\n",
        "# 値確認\n",
        "print(r6.data)"
      ],
      "execution_count": 12,
      "outputs": [
        {
          "output_type": "stream",
          "name": "stdout",
          "text": [
            "torch.Size([3, 4])\n",
            "tensor([[-0.1115,  0.1204, -0.3696, -0.2404],\n",
            "        [-1.1969,  0.2093, -0.9724, -0.7550],\n",
            "        [ 0.3239, -0.1085,  0.2103, -0.3908]])\n"
          ]
        }
      ]
    },
    {
      "cell_type": "code",
      "metadata": {
        "id": "BXeVtrWVNr_i",
        "scrolled": false,
        "colab": {
          "base_uri": "https://localhost:8080/"
        },
        "outputId": "7d1c1d72-15ff-4e37-88f0-76d5c4a553f1"
      },
      "source": [
        "# 1階化\n",
        "# 要素数に-1を指定すると、この数を自動調整する\n",
        "\n",
        "r7 = r3.view(-1)\n",
        "\n",
        "# shape確認\n",
        "print(r7.shape)\n",
        "\n",
        "# 値確認\n",
        "print(r7.data)"
      ],
      "execution_count": 13,
      "outputs": [
        {
          "output_type": "stream",
          "name": "stdout",
          "text": [
            "torch.Size([12])\n",
            "tensor([-0.1115,  0.1204, -0.3696, -0.2404, -1.1969,  0.2093, -0.9724, -0.7550,\n",
            "         0.3239, -0.1085,  0.2103, -0.3908])\n"
          ]
        }
      ]
    },
    {
      "cell_type": "markdown",
      "metadata": {
        "id": "Xv5pRJK1Nr_j"
      },
      "source": [
        "### それ以外の属性"
      ]
    },
    {
      "cell_type": "code",
      "metadata": {
        "id": "5ZYg-dcENr_j",
        "colab": {
          "base_uri": "https://localhost:8080/"
        },
        "outputId": "23a93c85-964f-4d2d-dd2d-60755b70dcd9"
      },
      "source": [
        "# requires_grad属性\n",
        "# 自動微分機能と関係（2.3節）\n",
        "print('requires_grad: ', r1.requires_grad)\n",
        "\n",
        "# device属性\n",
        "# GPU計算と関係（8章）\n",
        "print('device: ', r1.device)"
      ],
      "execution_count": 14,
      "outputs": [
        {
          "output_type": "stream",
          "name": "stdout",
          "text": [
            "requires_grad:  False\n",
            "device:  cpu\n"
          ]
        }
      ]
    },
    {
      "cell_type": "markdown",
      "metadata": {
        "id": "0g-6LRsnNr_j"
      },
      "source": [
        "### item関数"
      ]
    },
    {
      "cell_type": "code",
      "metadata": {
        "id": "Tu3wXoDFNr_j",
        "scrolled": false,
        "colab": {
          "base_uri": "https://localhost:8080/"
        },
        "outputId": "54256854-e486-4099-e7be-3c93cc4feea4"
      },
      "source": [
        "# スカラーテンソル(0階テンソル)に対してはitem関数で値を取り出せる\n",
        "# 計算結果テンソルとしてのLOSS(損失)から、データ記録用に値だけを抽出する場合によく用いる\n",
        "\n",
        "item = r0.item()\n",
        "\n",
        "print(type(item))\n",
        "print(item)"
      ],
      "execution_count": 15,
      "outputs": [
        {
          "output_type": "stream",
          "name": "stdout",
          "text": [
            "<class 'float'>\n",
            "1.0\n"
          ]
        }
      ]
    },
    {
      "cell_type": "code",
      "metadata": {
        "id": "zwi8v5C0Nr_j",
        "colab": {
          "base_uri": "https://localhost:8080/",
          "height": 182
        },
        "outputId": "3ab654cd-be7b-44a4-ccdb-173bbca595e2"
      },
      "source": [
        "# 0階以外のテンソルにitem関数は無効\n",
        "# r1_np = np.array([1, 2, 3, 4, 5])\n",
        "\n",
        "print(r1.item())"
      ],
      "execution_count": 16,
      "outputs": [
        {
          "output_type": "error",
          "ename": "RuntimeError",
          "evalue": "a Tensor with 5 elements cannot be converted to Scalar",
          "traceback": [
            "\u001b[0;31m---------------------------------------------------------------------------\u001b[0m",
            "\u001b[0;31mRuntimeError\u001b[0m                              Traceback (most recent call last)",
            "\u001b[0;32m/tmp/ipython-input-16-1793377199.py\u001b[0m in \u001b[0;36m<cell line: 0>\u001b[0;34m()\u001b[0m\n\u001b[1;32m      2\u001b[0m \u001b[0;31m# r1_np = np.array([1, 2, 3, 4, 5])\u001b[0m\u001b[0;34m\u001b[0m\u001b[0;34m\u001b[0m\u001b[0m\n\u001b[1;32m      3\u001b[0m \u001b[0;34m\u001b[0m\u001b[0m\n\u001b[0;32m----> 4\u001b[0;31m \u001b[0mprint\u001b[0m\u001b[0;34m(\u001b[0m\u001b[0mr1\u001b[0m\u001b[0;34m.\u001b[0m\u001b[0mitem\u001b[0m\u001b[0;34m(\u001b[0m\u001b[0;34m)\u001b[0m\u001b[0;34m)\u001b[0m\u001b[0;34m\u001b[0m\u001b[0;34m\u001b[0m\u001b[0m\n\u001b[0m",
            "\u001b[0;31mRuntimeError\u001b[0m: a Tensor with 5 elements cannot be converted to Scalar"
          ]
        }
      ]
    },
    {
      "cell_type": "code",
      "metadata": {
        "id": "dvE5Cy3iNr_k",
        "colab": {
          "base_uri": "https://localhost:8080/"
        },
        "outputId": "b699035f-ed37-4cd1-f886-54fab831f7fa"
      },
      "source": [
        "# 要素数が1つだけの1階テンソルはOK\n",
        "# (2階以上でも同様)\n",
        "t1 = torch.ones(1)\n",
        "\n",
        "# shape確認\n",
        "print(t1.shape)\n",
        "\n",
        "# item関数呼び出し\n",
        "print(t1.item())"
      ],
      "execution_count": 17,
      "outputs": [
        {
          "output_type": "stream",
          "name": "stdout",
          "text": [
            "torch.Size([1])\n",
            "1.0\n"
          ]
        }
      ]
    },
    {
      "cell_type": "markdown",
      "metadata": {
        "id": "JnrnIuI-Nr_k"
      },
      "source": [
        "### max関数"
      ]
    },
    {
      "cell_type": "code",
      "metadata": {
        "id": "bwyLGh_SNr_k",
        "colab": {
          "base_uri": "https://localhost:8080/"
        },
        "outputId": "e3e7df4b-ca91-4388-c451-aae60390f153"
      },
      "source": [
        "# 元テンソルr2の確認\n",
        "print(r2)\n",
        "\n",
        "# max関数を引数なしで呼び出すと、全体の最大値が取得できる\n",
        "print(r2.max())"
      ],
      "execution_count": 18,
      "outputs": [
        {
          "output_type": "stream",
          "name": "stdout",
          "text": [
            "tensor([[1., 5., 6.],\n",
            "        [4., 3., 2.]])\n",
            "tensor(6.)\n"
          ]
        }
      ]
    },
    {
      "cell_type": "code",
      "metadata": {
        "id": "kLkNmIS9Nr_k",
        "colab": {
          "base_uri": "https://localhost:8080/"
        },
        "outputId": "9b99e858-1732-46e6-c3fb-0a136fddb178"
      },
      "source": [
        "# torch.max関数\n",
        "# 2つめの引数はどの軸で集約するかを意味する\n",
        "# 二階テンソルの場合：\n",
        "# 軸=1は行方向の集計  軸0は列方向の集計を意味する\n",
        "print(torch.max(r2, 1))"
      ],
      "execution_count": 19,
      "outputs": [
        {
          "output_type": "stream",
          "name": "stdout",
          "text": [
            "torch.return_types.max(\n",
            "values=tensor([6., 4.]),\n",
            "indices=tensor([2, 0]))\n"
          ]
        }
      ]
    },
    {
      "cell_type": "code",
      "metadata": {
        "id": "lwiblU1vNr_l",
        "colab": {
          "base_uri": "https://localhost:8080/"
        },
        "outputId": "2dfb4a03-d434-414f-ac78-2bcb0a266591"
      },
      "source": [
        "# 何番目の要素が最大値をとるかは、indicesを調べればいい\n",
        "# 以下の計算は、多値分類で予測ラベルを求めるときによく利用されるパターン\n",
        "# [1]を付けると、indexのみを抽出できる\n",
        "print(torch.max(r2, 1)[1])"
      ],
      "execution_count": 20,
      "outputs": [
        {
          "output_type": "stream",
          "name": "stdout",
          "text": [
            "tensor([2, 0])\n"
          ]
        }
      ]
    },
    {
      "cell_type": "markdown",
      "metadata": {
        "id": "W-CE04b7Nr_l"
      },
      "source": [
        "### NumPy変数への変換"
      ]
    },
    {
      "cell_type": "code",
      "metadata": {
        "id": "WPimA-EMNr_l",
        "colab": {
          "base_uri": "https://localhost:8080/"
        },
        "outputId": "a211e3a1-3f3c-433a-82a0-aae568e6fdbe"
      },
      "source": [
        "# NumPy化\n",
        "# r2はテンソルである\n",
        "r2_np = r2.data.numpy()\n",
        "\n",
        "# type 確認\n",
        "print(type(r2_np))\n",
        "\n",
        "# 値確認\n",
        "print(r2_np)"
      ],
      "execution_count": 21,
      "outputs": [
        {
          "output_type": "stream",
          "name": "stdout",
          "text": [
            "<class 'numpy.ndarray'>\n",
            "[[1. 5. 6.]\n",
            " [4. 3. 2.]]\n"
          ]
        }
      ]
    },
    {
      "cell_type": "markdown",
      "metadata": {
        "id": "85on1hQ4Nr_l"
      },
      "source": [
        "## 2.4 ２次関数の勾配計算"
      ]
    },
    {
      "cell_type": "markdown",
      "metadata": {
        "id": "YiUz1baKNr_l"
      },
      "source": [
        " ### データ準備"
      ]
    },
    {
      "cell_type": "code",
      "metadata": {
        "id": "2K1rvdhiNr_l",
        "colab": {
          "base_uri": "https://localhost:8080/"
        },
        "outputId": "7624a1b2-9fcc-4c6d-807d-abe3a9524ff9"
      },
      "source": [
        "# xをnumpy配列で定義\n",
        "#\n",
        "x_np = np.arange(-2, 2.1, 0.25)\n",
        "\n",
        "# xの値表示\n",
        "print(x_np)"
      ],
      "execution_count": 36,
      "outputs": [
        {
          "output_type": "stream",
          "name": "stdout",
          "text": [
            "[-2.   -1.75 -1.5  -1.25 -1.   -0.75 -0.5  -0.25  0.    0.25  0.5   0.75\n",
            "  1.    1.25  1.5   1.75  2.  ]\n"
          ]
        }
      ]
    },
    {
      "cell_type": "code",
      "metadata": {
        "id": "H_YBx-t9Nr_m",
        "colab": {
          "base_uri": "https://localhost:8080/"
        },
        "outputId": "048b345f-8aac-4d0e-d613-56636841b34e"
      },
      "source": [
        "# (1) 勾配計算用変数の定義\n",
        "x = torch.tensor(x_np, requires_grad=True,\n",
        "    dtype=torch.float32)\n",
        "\n",
        "# 結果確認\n",
        "print(x)"
      ],
      "execution_count": 37,
      "outputs": [
        {
          "output_type": "stream",
          "name": "stdout",
          "text": [
            "tensor([-2.0000, -1.7500, -1.5000, -1.2500, -1.0000, -0.7500, -0.5000, -0.2500,\n",
            "         0.0000,  0.2500,  0.5000,  0.7500,  1.0000,  1.2500,  1.5000,  1.7500,\n",
            "         2.0000], requires_grad=True)\n"
          ]
        }
      ]
    },
    {
      "cell_type": "markdown",
      "metadata": {
        "id": "oos9Q69GNr_m"
      },
      "source": [
        "### ２次関数の計算"
      ]
    },
    {
      "cell_type": "code",
      "metadata": {
        "id": "ky1X5hPHNr_m"
      },
      "source": [
        "# 2次関数の計算\n",
        "# 裏で計算グラフが自動生成される\n",
        "\n",
        "y = 2 * x**2 + 2"
      ],
      "execution_count": 38,
      "outputs": []
    },
    {
      "cell_type": "markdown",
      "metadata": {
        "id": "iiL8-98INr_m"
      },
      "source": [
        "$ y = 2x^2 + 2$ を意味する"
      ]
    },
    {
      "cell_type": "code",
      "metadata": {
        "id": "m0Pwm9jUNr_m",
        "colab": {
          "base_uri": "https://localhost:8080/"
        },
        "outputId": "4b233e73-cba8-4247-d0bb-52109c4e02f3"
      },
      "source": [
        "# yの計算結果確認\n",
        "\n",
        "print(y)"
      ],
      "execution_count": 39,
      "outputs": [
        {
          "output_type": "stream",
          "name": "stdout",
          "text": [
            "tensor([10.0000,  8.1250,  6.5000,  5.1250,  4.0000,  3.1250,  2.5000,  2.1250,\n",
            "         2.0000,  2.1250,  2.5000,  3.1250,  4.0000,  5.1250,  6.5000,  8.1250,\n",
            "        10.0000], grad_fn=<AddBackward0>)\n"
          ]
        }
      ]
    },
    {
      "cell_type": "code",
      "metadata": {
        "id": "-ONyC7tSNr_m",
        "colab": {
          "base_uri": "https://localhost:8080/",
          "height": 526
        },
        "outputId": "e5150a32-f402-489c-e627-0242dc9fdfd2"
      },
      "source": [
        "# グラフ描画\n",
        "\n",
        "plt.plot(x.data, y.data)\n",
        "plt.show()"
      ],
      "execution_count": 40,
      "outputs": [
        {
          "output_type": "display_data",
          "data": {
            "text/plain": [
              "<Figure size 600x600 with 1 Axes>"
            ],
            "image/png": "[encoded data removed]"
          },
          "metadata": {}
        }
      ]
    },
    {
      "cell_type": "code",
      "metadata": {
        "id": "L9S2STdKNr_n"
      },
      "source": [
        "# 勾配計算のため、sum 関数で 1階テンソルの関数値をスカラー化する\n",
        "# (sum 関数を各要素で偏微分した結果は1なので、元の関数の微分結果を取得可能 )\n",
        "# ( 詳細はサポートサイトの解説を参照のこと )\n",
        "\n",
        "z = y.sum()"
      ],
      "execution_count": 41,
      "outputs": []
    },
    {
      "cell_type": "code",
      "metadata": {
        "id": "HcLI2RtkNr_n",
        "colab": {
          "base_uri": "https://localhost:8080/",
          "height": 527
        },
        "outputId": "a7da3d52-6b74-44e7-9647-bd4e91b5e3ad"
      },
      "source": [
        "# (3) 計算グラフの可視化\n",
        "\n",
        "# 必要ライブラリのインポート\n",
        "from torchviz import make_dot\n",
        "\n",
        "# 可視化関数の呼び出し\n",
        "# z: 可視化したい計算グラフの対象となる変数\n",
        "# x: 第二引数のparamsとして微分計算対象の変数\n",
        "# xはテンソルではなく、普通のNumPy変数と考えれば良い\n",
        "g= make_dot(z, params={'x': x})\n",
        "display(g)"
      ],
      "execution_count": 42,
      "outputs": [
        {
          "output_type": "display_data",
          "data": {
            "image/svg+xml": "<?xml version=\"1.0\" encoding=\"UTF-8\" standalone=\"no\"?>\n<!DOCTYPE svg PUBLIC \"-//W3C//DTD SVG 1.1//EN\"\n \"http://www.w3.org/Graphics/SVG/1.1/DTD/svg11.dtd\">\n<!-- Generated by graphviz version 2.43.0 (0)\n -->\n<!-- Title: %3 Pages: 1 -->\n<svg width=\"109pt\" height=\"380pt\"\n viewBox=\"0.00 0.00 109.00 380.00\" xmlns=\"http://www.w3.org/2000/svg\" xmlns:xlink=\"http://www.w3.org/1999/xlink\">\n<g id=\"graph0\" class=\"graph\" transform=\"scale(1 1) rotate(0) translate(4 376)\">\n<title>%3</title>\n<polygon fill=\"white\" stroke=\"transparent\" points=\"-4,4 -4,-376 105,-376 105,4 -4,4\"/>\n<!-- 135761614060048 -->\n<g id=\"node1\" class=\"node\">\n<title>135761614060048</title>\n<polygon fill=\"#caff70\" stroke=\"black\" points=\"77.5,-31 23.5,-31 23.5,0 77.5,0 77.5,-31\"/>\n<text text-anchor=\"middle\" x=\"50.5\" y=\"-7\" font-family=\"monospace\" font-size=\"10.00\"> ()</text>\n</g>\n<!-- 135757619971984 -->\n<g id=\"node2\" class=\"node\">\n<title>135757619971984</title>\n<polygon fill=\"lightgrey\" stroke=\"black\" points=\"95,-86 6,-86 6,-67 95,-67 95,-86\"/>\n<text text-anchor=\"middle\" x=\"50.5\" y=\"-74\" font-family=\"monospace\" font-size=\"10.00\">SumBackward0</text>\n</g>\n<!-- 135757619971984&#45;&gt;135761614060048 -->\n<g id=\"edge6\" class=\"edge\">\n<title>135757619971984&#45;&gt;135761614060048</title>\n<path fill=\"none\" stroke=\"black\" d=\"M50.5,-66.79C50.5,-60.07 50.5,-50.4 50.5,-41.34\"/>\n<polygon fill=\"black\" stroke=\"black\" points=\"54,-41.19 50.5,-31.19 47,-41.19 54,-41.19\"/>\n</g>\n<!-- 135757619985232 -->\n<g id=\"node3\" class=\"node\">\n<title>135757619985232</title>\n<polygon fill=\"lightgrey\" stroke=\"black\" points=\"95,-141 6,-141 6,-122 95,-122 95,-141\"/>\n<text text-anchor=\"middle\" x=\"50.5\" y=\"-129\" font-family=\"monospace\" font-size=\"10.00\">AddBackward0</text>\n</g>\n<!-- 135757619985232&#45;&gt;135757619971984 -->\n<g id=\"edge1\" class=\"edge\">\n<title>135757619985232&#45;&gt;135757619971984</title>\n<path fill=\"none\" stroke=\"black\" d=\"M50.5,-121.75C50.5,-114.8 50.5,-104.85 50.5,-96.13\"/>\n<polygon fill=\"black\" stroke=\"black\" points=\"54,-96.09 50.5,-86.09 47,-96.09 54,-96.09\"/>\n</g>\n<!-- 135757619977840 -->\n<g id=\"node4\" class=\"node\">\n<title>135757619977840</title>\n<polygon fill=\"lightgrey\" stroke=\"black\" points=\"95,-196 6,-196 6,-177 95,-177 95,-196\"/>\n<text text-anchor=\"middle\" x=\"50.5\" y=\"-184\" font-family=\"monospace\" font-size=\"10.00\">MulBackward0</text>\n</g>\n<!-- 135757619977840&#45;&gt;135757619985232 -->\n<g id=\"edge2\" class=\"edge\">\n<title>135757619977840&#45;&gt;135757619985232</title>\n<path fill=\"none\" stroke=\"black\" d=\"M50.5,-176.75C50.5,-169.8 50.5,-159.85 50.5,-151.13\"/>\n<polygon fill=\"black\" stroke=\"black\" points=\"54,-151.09 50.5,-141.09 47,-151.09 54,-151.09\"/>\n</g>\n<!-- 135757619970448 -->\n<g id=\"node5\" class=\"node\">\n<title>135757619970448</title>\n<polygon fill=\"lightgrey\" stroke=\"black\" points=\"95,-251 6,-251 6,-232 95,-232 95,-251\"/>\n<text text-anchor=\"middle\" x=\"50.5\" y=\"-239\" font-family=\"monospace\" font-size=\"10.00\">PowBackward0</text>\n</g>\n<!-- 135757619970448&#45;&gt;135757619977840 -->\n<g id=\"edge3\" class=\"edge\">\n<title>135757619970448&#45;&gt;135757619977840</title>\n<path fill=\"none\" stroke=\"black\" d=\"M50.5,-231.75C50.5,-224.8 50.5,-214.85 50.5,-206.13\"/>\n<polygon fill=\"black\" stroke=\"black\" points=\"54,-206.09 50.5,-196.09 47,-206.09 54,-206.09\"/>\n</g>\n<!-- 135757619983312 -->\n<g id=\"node6\" class=\"node\">\n<title>135757619983312</title>\n<polygon fill=\"lightgrey\" stroke=\"black\" points=\"101,-306 0,-306 0,-287 101,-287 101,-306\"/>\n<text text-anchor=\"middle\" x=\"50.5\" y=\"-294\" font-family=\"monospace\" font-size=\"10.00\">AccumulateGrad</text>\n</g>\n<!-- 135757619983312&#45;&gt;135757619970448 -->\n<g id=\"edge4\" class=\"edge\">\n<title>135757619983312&#45;&gt;135757619970448</title>\n<path fill=\"none\" stroke=\"black\" d=\"M50.5,-286.75C50.5,-279.8 50.5,-269.85 50.5,-261.13\"/>\n<polygon fill=\"black\" stroke=\"black\" points=\"54,-261.09 50.5,-251.09 47,-261.09 54,-261.09\"/>\n</g>\n<!-- 135757618975984 -->\n<g id=\"node7\" class=\"node\">\n<title>135757618975984</title>\n<polygon fill=\"lightblue\" stroke=\"black\" points=\"77.5,-372 23.5,-372 23.5,-342 77.5,-342 77.5,-372\"/>\n<text text-anchor=\"middle\" x=\"50.5\" y=\"-360\" font-family=\"monospace\" font-size=\"10.00\">x</text>\n<text text-anchor=\"middle\" x=\"50.5\" y=\"-349\" font-family=\"monospace\" font-size=\"10.00\"> (17)</text>\n</g>\n<!-- 135757618975984&#45;&gt;135757619983312 -->\n<g id=\"edge5\" class=\"edge\">\n<title>135757618975984&#45;&gt;135757619983312</title>\n<path fill=\"none\" stroke=\"black\" d=\"M50.5,-341.84C50.5,-334.21 50.5,-324.7 50.5,-316.45\"/>\n<polygon fill=\"black\" stroke=\"black\" points=\"54,-316.27 50.5,-306.27 47,-316.27 54,-316.27\"/>\n</g>\n</g>\n</svg>\n",
            "text/plain": [
              "<graphviz.graphs.Digraph at 0x7b7888a36690>"
            ]
          },
          "metadata": {}
        }
      ]
    },
    {
      "cell_type": "code",
      "metadata": {
        "id": "Cugbjt5WNr_n"
      },
      "source": [
        "# (4) 勾配計算\n",
        "# PyTorchの機能を使うと勾配計算の実施はとても簡単で、結果変数zに対してBackward関数を呼び出すだけ\n",
        "\n",
        "z.backward()"
      ],
      "execution_count": 43,
      "outputs": []
    },
    {
      "cell_type": "code",
      "metadata": {
        "id": "Po4-vTPPNr_n",
        "colab": {
          "base_uri": "https://localhost:8080/"
        },
        "outputId": "e5bd71d8-bea3-4dd5-c816-77689d8ceb96"
      },
      "source": [
        "# (5) 勾配値の取得\n",
        "\n",
        "print(x.grad)"
      ],
      "execution_count": 44,
      "outputs": [
        {
          "output_type": "stream",
          "name": "stdout",
          "text": [
            "tensor([-8., -7., -6., -5., -4., -3., -2., -1.,  0.,  1.,  2.,  3.,  4.,  5.,\n",
            "         6.,  7.,  8.])\n"
          ]
        }
      ]
    },
    {
      "cell_type": "code",
      "metadata": {
        "id": "ZaZ5KFSINr_o",
        "colab": {
          "base_uri": "https://localhost:8080/",
          "height": 526
        },
        "outputId": "c1777cd6-de9a-4396-d3f3-d2133fb79eea"
      },
      "source": [
        "# 元の関数と勾配のグラフ化\n",
        "\n",
        "plt.plot(x.data, y.data, c='b', label='y')\n",
        "plt.plot(x.data, x.grad.data, c='k', label='y.grad')\n",
        "plt.legend()\n",
        "plt.show()"
      ],
      "execution_count": 32,
      "outputs": [
        {
          "output_type": "display_data",
          "data": {
            "text/plain": [
              "<Figure size 600x600 with 1 Axes>"
            ],
            "image/png": "[encoded data removed]"
          },
          "metadata": {}
        }
      ]
    },
    {
      "cell_type": "markdown",
      "metadata": {
        "id": "m5VKJUI0Nr_o"
      },
      "source": [
        "元の関数が2次関数なので、勾配計算の結果が直線になるのは、妥当な結果"
      ]
    },
    {
      "cell_type": "markdown",
      "metadata": {
        "id": "nrBbdRIvNr_o"
      },
      "source": [
        "ここでもう一度勾配計算をしてみる。"
      ]
    },
    {
      "cell_type": "code",
      "metadata": {
        "id": "dOHxzxi0Nr_o",
        "colab": {
          "base_uri": "https://localhost:8080/"
        },
        "outputId": "a7fa7ef2-574f-4fef-bb63-eb4bf0596993"
      },
      "source": [
        "# 勾配の初期化せずに２度目の勾配計算\n",
        "\n",
        "y = 2 * x**2 + 2\n",
        "z = y.sum()\n",
        "z.backward()\n",
        "\n",
        "# xの勾配確認\n",
        "print(x.grad)"
      ],
      "execution_count": 45,
      "outputs": [
        {
          "output_type": "stream",
          "name": "stdout",
          "text": [
            "tensor([-16., -14., -12., -10.,  -8.,  -6.,  -4.,  -2.,   0.,   2.,   4.,   6.,\n",
            "          8.,  10.,  12.,  14.,  16.])\n"
          ]
        }
      ]
    },
    {
      "cell_type": "markdown",
      "metadata": {
        "id": "MFsyjUPXNr_o"
      },
      "source": [
        "勾配値は、勾配計算の結果がどんどん加算されてしまう。そのため新しい値を計算したい場合、勾配値のリセットが必要。"
      ]
    },
    {
      "cell_type": "code",
      "metadata": {
        "id": "FURKt3aENr_p",
        "colab": {
          "base_uri": "https://localhost:8080/"
        },
        "outputId": "d9bbda13-9bbb-424e-fd6f-bcad6e26bc3b"
      },
      "source": [
        "# (6) 勾配の初期化は関数 zero_()を使う\n",
        "# grad属性に保存されている勾配値は、利用が終わったら値を初期化する必要がある\n",
        "\n",
        "x.grad.zero_()\n",
        "print(x.grad)"
      ],
      "execution_count": 46,
      "outputs": [
        {
          "output_type": "stream",
          "name": "stdout",
          "text": [
            "tensor([0., 0., 0., 0., 0., 0., 0., 0., 0., 0., 0., 0., 0., 0., 0., 0., 0.])\n"
          ]
        }
      ]
    },
    {
      "cell_type": "markdown",
      "metadata": {
        "id": "F-TnTbjtNr_p"
      },
      "source": [
        "## 2.5 シグモイド関数の勾配計算"
      ]
    },
    {
      "cell_type": "markdown",
      "metadata": {
        "id": "rCQYN3jGNr_p"
      },
      "source": [
        "シグモイド関数は数式で表すと次の形になるが今回はPyTorchで提供されている関数を利用する  \n",
        "$ y = \\dfrac{1}{1 + \\exp{(-x)}} $"
      ]
    },
    {
      "cell_type": "code",
      "metadata": {
        "id": "sl8mxsr7Nr_p"
      },
      "source": [
        "# シグモイド関数の定義\n",
        "sigmoid = torch.nn.Sigmoid()"
      ],
      "execution_count": 47,
      "outputs": []
    },
    {
      "cell_type": "code",
      "metadata": {
        "id": "tT7wMVDuNr_p"
      },
      "source": [
        "# (2) yの値の計算\n",
        "\n",
        "y = sigmoid(x)"
      ],
      "execution_count": 48,
      "outputs": []
    },
    {
      "cell_type": "code",
      "metadata": {
        "id": "ssP2qjhGNr_p",
        "colab": {
          "base_uri": "https://localhost:8080/",
          "height": 526
        },
        "outputId": "4eb14930-8784-4ddf-c045-b074cffea0eb"
      },
      "source": [
        "# グラフ描画\n",
        "\n",
        "plt.plot(x.data, y.data)\n",
        "plt.show()"
      ],
      "execution_count": 49,
      "outputs": [
        {
          "output_type": "display_data",
          "data": {
            "text/plain": [
              "<Figure size 600x600 with 1 Axes>"
            ],
            "image/png": "[encoded data removed]"
          },
          "metadata": {}
        }
      ]
    },
    {
      "cell_type": "code",
      "metadata": {
        "id": "XMXYmt8WNr_q"
      },
      "source": [
        "# 勾配計算のためには、最終値はスカラーの必要があるため、ダミーでsum関数をかける\n",
        "\n",
        "z = y.sum()"
      ],
      "execution_count": 50,
      "outputs": []
    },
    {
      "cell_type": "code",
      "metadata": {
        "id": "w3H-6V13Nr_q",
        "colab": {
          "base_uri": "https://localhost:8080/",
          "height": 381
        },
        "outputId": "4aa77f08-7ebb-4364-eaa9-a6ea18537a60"
      },
      "source": [
        "# (3) 計算グラフの可視化\n",
        "\n",
        "g = make_dot(z, params={'x': x})\n",
        "display(g)"
      ],
      "execution_count": 51,
      "outputs": [
        {
          "output_type": "display_data",
          "data": {
            "image/svg+xml": "<?xml version=\"1.0\" encoding=\"UTF-8\" standalone=\"no\"?>\n<!DOCTYPE svg PUBLIC \"-//W3C//DTD SVG 1.1//EN\"\n \"http://www.w3.org/Graphics/SVG/1.1/DTD/svg11.dtd\">\n<!-- Generated by graphviz version 2.43.0 (0)\n -->\n<!-- Title: %3 Pages: 1 -->\n<svg width=\"121pt\" height=\"270pt\"\n viewBox=\"0.00 0.00 121.00 270.00\" xmlns=\"http://www.w3.org/2000/svg\" xmlns:xlink=\"http://www.w3.org/1999/xlink\">\n<g id=\"graph0\" class=\"graph\" transform=\"scale(1 1) rotate(0) translate(4 266)\">\n<title>%3</title>\n<polygon fill=\"white\" stroke=\"transparent\" points=\"-4,4 -4,-266 117,-266 117,4 -4,4\"/>\n<!-- 135757619995728 -->\n<g id=\"node1\" class=\"node\">\n<title>135757619995728</title>\n<polygon fill=\"#caff70\" stroke=\"black\" points=\"83.5,-31 29.5,-31 29.5,0 83.5,0 83.5,-31\"/>\n<text text-anchor=\"middle\" x=\"56.5\" y=\"-7\" font-family=\"monospace\" font-size=\"10.00\"> ()</text>\n</g>\n<!-- 135757619970160 -->\n<g id=\"node2\" class=\"node\">\n<title>135757619970160</title>\n<polygon fill=\"lightgrey\" stroke=\"black\" points=\"101,-86 12,-86 12,-67 101,-67 101,-86\"/>\n<text text-anchor=\"middle\" x=\"56.5\" y=\"-74\" font-family=\"monospace\" font-size=\"10.00\">SumBackward0</text>\n</g>\n<!-- 135757619970160&#45;&gt;135757619995728 -->\n<g id=\"edge4\" class=\"edge\">\n<title>135757619970160&#45;&gt;135757619995728</title>\n<path fill=\"none\" stroke=\"black\" d=\"M56.5,-66.79C56.5,-60.07 56.5,-50.4 56.5,-41.34\"/>\n<polygon fill=\"black\" stroke=\"black\" points=\"60,-41.19 56.5,-31.19 53,-41.19 60,-41.19\"/>\n</g>\n<!-- 135757619980528 -->\n<g id=\"node3\" class=\"node\">\n<title>135757619980528</title>\n<polygon fill=\"lightgrey\" stroke=\"black\" points=\"113,-141 0,-141 0,-122 113,-122 113,-141\"/>\n<text text-anchor=\"middle\" x=\"56.5\" y=\"-129\" font-family=\"monospace\" font-size=\"10.00\">SigmoidBackward0</text>\n</g>\n<!-- 135757619980528&#45;&gt;135757619970160 -->\n<g id=\"edge1\" class=\"edge\">\n<title>135757619980528&#45;&gt;135757619970160</title>\n<path fill=\"none\" stroke=\"black\" d=\"M56.5,-121.75C56.5,-114.8 56.5,-104.85 56.5,-96.13\"/>\n<polygon fill=\"black\" stroke=\"black\" points=\"60,-96.09 56.5,-86.09 53,-96.09 60,-96.09\"/>\n</g>\n<!-- 135757619970448 -->\n<g id=\"node4\" class=\"node\">\n<title>135757619970448</title>\n<polygon fill=\"lightgrey\" stroke=\"black\" points=\"107,-196 6,-196 6,-177 107,-177 107,-196\"/>\n<text text-anchor=\"middle\" x=\"56.5\" y=\"-184\" font-family=\"monospace\" font-size=\"10.00\">AccumulateGrad</text>\n</g>\n<!-- 135757619970448&#45;&gt;135757619980528 -->\n<g id=\"edge2\" class=\"edge\">\n<title>135757619970448&#45;&gt;135757619980528</title>\n<path fill=\"none\" stroke=\"black\" d=\"M56.5,-176.75C56.5,-169.8 56.5,-159.85 56.5,-151.13\"/>\n<polygon fill=\"black\" stroke=\"black\" points=\"60,-151.09 56.5,-141.09 53,-151.09 60,-151.09\"/>\n</g>\n<!-- 135757618975984 -->\n<g id=\"node5\" class=\"node\">\n<title>135757618975984</title>\n<polygon fill=\"lightblue\" stroke=\"black\" points=\"83.5,-262 29.5,-262 29.5,-232 83.5,-232 83.5,-262\"/>\n<text text-anchor=\"middle\" x=\"56.5\" y=\"-250\" font-family=\"monospace\" font-size=\"10.00\">x</text>\n<text text-anchor=\"middle\" x=\"56.5\" y=\"-239\" font-family=\"monospace\" font-size=\"10.00\"> (17)</text>\n</g>\n<!-- 135757618975984&#45;&gt;135757619970448 -->\n<g id=\"edge3\" class=\"edge\">\n<title>135757618975984&#45;&gt;135757619970448</title>\n<path fill=\"none\" stroke=\"black\" d=\"M56.5,-231.84C56.5,-224.21 56.5,-214.7 56.5,-206.45\"/>\n<polygon fill=\"black\" stroke=\"black\" points=\"60,-206.27 56.5,-196.27 53,-206.27 60,-206.27\"/>\n</g>\n</g>\n</svg>\n",
            "text/plain": [
              "<graphviz.graphs.Digraph at 0x7b7888bbcb90>"
            ]
          },
          "metadata": {}
        }
      ]
    },
    {
      "cell_type": "code",
      "metadata": {
        "id": "zNpm70XeNr_q",
        "colab": {
          "base_uri": "https://localhost:8080/"
        },
        "outputId": "d0835143-316e-42e6-f963-dd23eb3f2a02"
      },
      "source": [
        "# (4) 勾配計算\n",
        "z.backward()\n",
        "\n",
        "# (5) 勾配値の確認\n",
        "print(x.grad)"
      ],
      "execution_count": 52,
      "outputs": [
        {
          "output_type": "stream",
          "name": "stdout",
          "text": [
            "tensor([0.1050, 0.1261, 0.1491, 0.1731, 0.1966, 0.2179, 0.2350, 0.2461, 0.2500,\n",
            "        0.2461, 0.2350, 0.2179, 0.1966, 0.1731, 0.1491, 0.1261, 0.1050])\n"
          ]
        }
      ]
    },
    {
      "cell_type": "code",
      "metadata": {
        "id": "cyt_foUvNr_q",
        "colab": {
          "base_uri": "https://localhost:8080/",
          "height": 526
        },
        "outputId": "8cbbf49a-45fd-4494-e0cd-2edfee772cf2"
      },
      "source": [
        "# 元の関数と勾配のグラフ化\n",
        "\n",
        "plt.plot(x.data, y.data, c='b', label='y')\n",
        "plt.plot(x.data, x.grad.data, c='k', label='y.grad')\n",
        "plt.legend()\n",
        "plt.show()"
      ],
      "execution_count": 53,
      "outputs": [
        {
          "output_type": "display_data",
          "data": {
            "text/plain": [
              "<Figure size 600x600 with 1 Axes>"
            ],
            "image/png": "[encoded data removed]"
          },
          "metadata": {}
        }
      ]
    },
    {
      "cell_type": "markdown",
      "metadata": {
        "id": "0kLX9BV9Nr_q"
      },
      "source": [
        "シグモイド関数の勾配は、$y(1-y)$になる。  \n",
        "2次関数なので、$y=\\dfrac{1}{2}$の時(x=0の時)最大値$\\dfrac{1}{4}$を取る。  \n",
        "上のグラフは、この計算結果と一致している。  "
      ]
    },
    {
      "cell_type": "code",
      "metadata": {
        "id": "d6lbqTXUNr_q",
        "colab": {
          "base_uri": "https://localhost:8080/"
        },
        "outputId": "ee2cf5be-aecd-447e-f074-4bb17c8bd14c"
      },
      "source": [
        "# (6) 勾配の初期化は関数 zero_()を使う\n",
        "\n",
        "x.grad.zero_()\n",
        "print(x.grad)"
      ],
      "execution_count": 54,
      "outputs": [
        {
          "output_type": "stream",
          "name": "stdout",
          "text": [
            "tensor([0., 0., 0., 0., 0., 0., 0., 0., 0., 0., 0., 0., 0., 0., 0., 0., 0.])\n"
          ]
        }
      ]
    },
    {
      "cell_type": "markdown",
      "metadata": {
        "id": "7tGBthh4Nr_r"
      },
      "source": [
        "### (参考)シグモイド関数を独自に実装した場合"
      ]
    },
    {
      "cell_type": "code",
      "metadata": {
        "id": "Uofxv02YNr_r"
      },
      "source": [
        "# シグモイド関数の定義\n",
        "\n",
        "def sigmoid(x):\n",
        "    return(1/(1 + torch.exp(-x)))"
      ],
      "execution_count": 55,
      "outputs": []
    },
    {
      "cell_type": "code",
      "metadata": {
        "id": "1A2ozRy4Nr_r"
      },
      "source": [
        "# (2) yの値の計算\n",
        "\n",
        "y = sigmoid(x)"
      ],
      "execution_count": 56,
      "outputs": []
    },
    {
      "cell_type": "code",
      "metadata": {
        "id": "vaCaLvR5Nr_r",
        "colab": {
          "base_uri": "https://localhost:8080/",
          "height": 576
        },
        "outputId": "41a2c8e5-8715-4d9c-ba59-83a5b450b3bb"
      },
      "source": [
        "# グラフ描画\n",
        "\n",
        "plt.plot(x.data, y.data)\n",
        "plt.xlabel('x')\n",
        "plt.ylabel('y')\n",
        "plt.title('シグモイド関数のグラフ')\n",
        "plt.show()"
      ],
      "execution_count": 57,
      "outputs": [
        {
          "output_type": "display_data",
          "data": {
            "text/plain": [
              "<Figure size 600x600 with 1 Axes>"
            ],
            "image/png": "[encoded data removed]"
          },
          "metadata": {}
        }
      ]
    },
    {
      "cell_type": "code",
      "metadata": {
        "id": "8HAx2pNbNr_r"
      },
      "source": [
        "# 勾配計算のためには、最終値はスカラーの必要があるため、ダミーでsum関数をかける\n",
        "\n",
        "z = y.sum()"
      ],
      "execution_count": 58,
      "outputs": []
    },
    {
      "cell_type": "code",
      "metadata": {
        "id": "m6FR7tA1Nr_r",
        "colab": {
          "base_uri": "https://localhost:8080/",
          "height": 674
        },
        "outputId": "746a32ec-d13a-4823-8864-5c44a317625a"
      },
      "source": [
        "# (3) 計算グラフの可視化\n",
        "\n",
        "params = {'x': x}\n",
        "g = make_dot(z, params=params)\n",
        "display(g)"
      ],
      "execution_count": 59,
      "outputs": [
        {
          "output_type": "display_data",
          "data": {
            "image/svg+xml": "<?xml version=\"1.0\" encoding=\"UTF-8\" standalone=\"no\"?>\n<!DOCTYPE svg PUBLIC \"-//W3C//DTD SVG 1.1//EN\"\n \"http://www.w3.org/Graphics/SVG/1.1/DTD/svg11.dtd\">\n<!-- Generated by graphviz version 2.43.0 (0)\n -->\n<!-- Title: %3 Pages: 1 -->\n<svg width=\"139pt\" height=\"490pt\"\n viewBox=\"0.00 0.00 139.00 490.00\" xmlns=\"http://www.w3.org/2000/svg\" xmlns:xlink=\"http://www.w3.org/1999/xlink\">\n<g id=\"graph0\" class=\"graph\" transform=\"scale(1 1) rotate(0) translate(4 486)\">\n<title>%3</title>\n<polygon fill=\"white\" stroke=\"transparent\" points=\"-4,4 -4,-486 135,-486 135,4 -4,4\"/>\n<!-- 135757654855984 -->\n<g id=\"node1\" class=\"node\">\n<title>135757654855984</title>\n<polygon fill=\"#caff70\" stroke=\"black\" points=\"92.5,-31 38.5,-31 38.5,0 92.5,0 92.5,-31\"/>\n<text text-anchor=\"middle\" x=\"65.5\" y=\"-7\" font-family=\"monospace\" font-size=\"10.00\"> ()</text>\n</g>\n<!-- 135757654179552 -->\n<g id=\"node2\" class=\"node\">\n<title>135757654179552</title>\n<polygon fill=\"lightgrey\" stroke=\"black\" points=\"110,-86 21,-86 21,-67 110,-67 110,-86\"/>\n<text text-anchor=\"middle\" x=\"65.5\" y=\"-74\" font-family=\"monospace\" font-size=\"10.00\">SumBackward0</text>\n</g>\n<!-- 135757654179552&#45;&gt;135757654855984 -->\n<g id=\"edge8\" class=\"edge\">\n<title>135757654179552&#45;&gt;135757654855984</title>\n<path fill=\"none\" stroke=\"black\" d=\"M65.5,-66.79C65.5,-60.07 65.5,-50.4 65.5,-41.34\"/>\n<polygon fill=\"black\" stroke=\"black\" points=\"69,-41.19 65.5,-31.19 62,-41.19 69,-41.19\"/>\n</g>\n<!-- 135757654165920 -->\n<g id=\"node3\" class=\"node\">\n<title>135757654165920</title>\n<polygon fill=\"lightgrey\" stroke=\"black\" points=\"110,-141 21,-141 21,-122 110,-122 110,-141\"/>\n<text text-anchor=\"middle\" x=\"65.5\" y=\"-129\" font-family=\"monospace\" font-size=\"10.00\">MulBackward0</text>\n</g>\n<!-- 135757654165920&#45;&gt;135757654179552 -->\n<g id=\"edge1\" class=\"edge\">\n<title>135757654165920&#45;&gt;135757654179552</title>\n<path fill=\"none\" stroke=\"black\" d=\"M65.5,-121.75C65.5,-114.8 65.5,-104.85 65.5,-96.13\"/>\n<polygon fill=\"black\" stroke=\"black\" points=\"69,-96.09 65.5,-86.09 62,-96.09 69,-96.09\"/>\n</g>\n<!-- 135757654177104 -->\n<g id=\"node4\" class=\"node\">\n<title>135757654177104</title>\n<polygon fill=\"lightgrey\" stroke=\"black\" points=\"131,-196 0,-196 0,-177 131,-177 131,-196\"/>\n<text text-anchor=\"middle\" x=\"65.5\" y=\"-184\" font-family=\"monospace\" font-size=\"10.00\">ReciprocalBackward0</text>\n</g>\n<!-- 135757654177104&#45;&gt;135757654165920 -->\n<g id=\"edge2\" class=\"edge\">\n<title>135757654177104&#45;&gt;135757654165920</title>\n<path fill=\"none\" stroke=\"black\" d=\"M65.5,-176.75C65.5,-169.8 65.5,-159.85 65.5,-151.13\"/>\n<polygon fill=\"black\" stroke=\"black\" points=\"69,-151.09 65.5,-141.09 62,-151.09 69,-151.09\"/>\n</g>\n<!-- 135757654174608 -->\n<g id=\"node5\" class=\"node\">\n<title>135757654174608</title>\n<polygon fill=\"lightgrey\" stroke=\"black\" points=\"110,-251 21,-251 21,-232 110,-232 110,-251\"/>\n<text text-anchor=\"middle\" x=\"65.5\" y=\"-239\" font-family=\"monospace\" font-size=\"10.00\">AddBackward0</text>\n</g>\n<!-- 135757654174608&#45;&gt;135757654177104 -->\n<g id=\"edge3\" class=\"edge\">\n<title>135757654174608&#45;&gt;135757654177104</title>\n<path fill=\"none\" stroke=\"black\" d=\"M65.5,-231.75C65.5,-224.8 65.5,-214.85 65.5,-206.13\"/>\n<polygon fill=\"black\" stroke=\"black\" points=\"69,-206.09 65.5,-196.09 62,-206.09 69,-206.09\"/>\n</g>\n<!-- 135757654177920 -->\n<g id=\"node6\" class=\"node\">\n<title>135757654177920</title>\n<polygon fill=\"lightgrey\" stroke=\"black\" points=\"110,-306 21,-306 21,-287 110,-287 110,-306\"/>\n<text text-anchor=\"middle\" x=\"65.5\" y=\"-294\" font-family=\"monospace\" font-size=\"10.00\">ExpBackward0</text>\n</g>\n<!-- 135757654177920&#45;&gt;135757654174608 -->\n<g id=\"edge4\" class=\"edge\">\n<title>135757654177920&#45;&gt;135757654174608</title>\n<path fill=\"none\" stroke=\"black\" d=\"M65.5,-286.75C65.5,-279.8 65.5,-269.85 65.5,-261.13\"/>\n<polygon fill=\"black\" stroke=\"black\" points=\"69,-261.09 65.5,-251.09 62,-261.09 69,-261.09\"/>\n</g>\n<!-- 135757619892128 -->\n<g id=\"node7\" class=\"node\">\n<title>135757619892128</title>\n<polygon fill=\"lightgrey\" stroke=\"black\" points=\"110,-361 21,-361 21,-342 110,-342 110,-361\"/>\n<text text-anchor=\"middle\" x=\"65.5\" y=\"-349\" font-family=\"monospace\" font-size=\"10.00\">NegBackward0</text>\n</g>\n<!-- 135757619892128&#45;&gt;135757654177920 -->\n<g id=\"edge5\" class=\"edge\">\n<title>135757619892128&#45;&gt;135757654177920</title>\n<path fill=\"none\" stroke=\"black\" d=\"M65.5,-341.75C65.5,-334.8 65.5,-324.85 65.5,-316.13\"/>\n<polygon fill=\"black\" stroke=\"black\" points=\"69,-316.09 65.5,-306.09 62,-316.09 69,-316.09\"/>\n</g>\n<!-- 135757619889440 -->\n<g id=\"node8\" class=\"node\">\n<title>135757619889440</title>\n<polygon fill=\"lightgrey\" stroke=\"black\" points=\"116,-416 15,-416 15,-397 116,-397 116,-416\"/>\n<text text-anchor=\"middle\" x=\"65.5\" y=\"-404\" font-family=\"monospace\" font-size=\"10.00\">AccumulateGrad</text>\n</g>\n<!-- 135757619889440&#45;&gt;135757619892128 -->\n<g id=\"edge6\" class=\"edge\">\n<title>135757619889440&#45;&gt;135757619892128</title>\n<path fill=\"none\" stroke=\"black\" d=\"M65.5,-396.75C65.5,-389.8 65.5,-379.85 65.5,-371.13\"/>\n<polygon fill=\"black\" stroke=\"black\" points=\"69,-371.09 65.5,-361.09 62,-371.09 69,-371.09\"/>\n</g>\n<!-- 135757618975984 -->\n<g id=\"node9\" class=\"node\">\n<title>135757618975984</title>\n<polygon fill=\"lightblue\" stroke=\"black\" points=\"92.5,-482 38.5,-482 38.5,-452 92.5,-452 92.5,-482\"/>\n<text text-anchor=\"middle\" x=\"65.5\" y=\"-470\" font-family=\"monospace\" font-size=\"10.00\">x</text>\n<text text-anchor=\"middle\" x=\"65.5\" y=\"-459\" font-family=\"monospace\" font-size=\"10.00\"> (17)</text>\n</g>\n<!-- 135757618975984&#45;&gt;135757619889440 -->\n<g id=\"edge7\" class=\"edge\">\n<title>135757618975984&#45;&gt;135757619889440</title>\n<path fill=\"none\" stroke=\"black\" d=\"M65.5,-451.84C65.5,-444.21 65.5,-434.7 65.5,-426.45\"/>\n<polygon fill=\"black\" stroke=\"black\" points=\"69,-426.27 65.5,-416.27 62,-426.27 69,-426.27\"/>\n</g>\n</g>\n</svg>\n",
            "text/plain": [
              "<graphviz.graphs.Digraph at 0x7b788891c3d0>"
            ]
          },
          "metadata": {}
        }
      ]
    },
    {
      "cell_type": "code",
      "metadata": {
        "id": "9nHpZIC3Nr_s",
        "colab": {
          "base_uri": "https://localhost:8080/"
        },
        "outputId": "5dce790f-1534-4b03-dd59-c5bd349ceead"
      },
      "source": [
        "# (4) 勾配計算\n",
        "z.backward()\n",
        "\n",
        "# (5) 勾配値の確認\n",
        "print(x.grad)"
      ],
      "execution_count": 60,
      "outputs": [
        {
          "output_type": "stream",
          "name": "stdout",
          "text": [
            "tensor([0.1050, 0.1261, 0.1491, 0.1731, 0.1966, 0.2179, 0.2350, 0.2461, 0.2500,\n",
            "        0.2461, 0.2350, 0.2179, 0.1966, 0.1731, 0.1491, 0.1261, 0.1050])\n"
          ]
        }
      ]
    },
    {
      "cell_type": "code",
      "metadata": {
        "id": "ip_6cFLmNr_s",
        "colab": {
          "base_uri": "https://localhost:8080/",
          "height": 526
        },
        "outputId": "3b5288d5-4138-4ab7-e607-d7e7c5732a52"
      },
      "source": [
        "# 元の関数と勾配のグラフ化\n",
        "\n",
        "plt.plot(x.data, y.data, c='b', label='y')\n",
        "plt.plot(x.data, x.grad.data, c='k', label='y.grad')\n",
        "plt.legend()\n",
        "plt.show()"
      ],
      "execution_count": 61,
      "outputs": [
        {
          "output_type": "display_data",
          "data": {
            "text/plain": [
              "<Figure size 600x600 with 1 Axes>"
            ],
            "image/png": "[encoded data removed]"
          },
          "metadata": {}
        }
      ]
    },
    {
      "cell_type": "code",
      "metadata": {
        "id": "t-hoxTV7Nr_s"
      },
      "source": [],
      "execution_count": null,
      "outputs": []
    }
  ]
}